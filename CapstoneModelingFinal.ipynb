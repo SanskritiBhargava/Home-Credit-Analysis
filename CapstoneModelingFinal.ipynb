{
 "cells": [
  {
   "cell_type": "markdown",
   "id": "VtKlXi1MvhKj",
   "metadata": {
    "id": "VtKlXi1MvhKj"
   },
   "source": [
    "<a class=\"anchor\" id=\"TOC\"></a>\n",
    "# **Table of Contents**"
   ]
  },
  {
   "cell_type": "markdown",
   "id": "EppyXoTivHLT",
   "metadata": {
    "id": "EppyXoTivHLT"
   },
   "source": [
    "[Table of Contents](#TOC)\n",
    "\n",
    "[Introduction](#init)\n",
    "\n",
    "[1 Importing Libraries +Bring in Data](#initexp)\n",
    "\n",
    ">[1.1 Importing Libraries](#initexp1)\n",
    "\n",
    ">[1.2 Reading in the Data](#initexp2)\n",
    "\n",
    ">[1.3 Basic Information about the Dataframes](#initexp3)\n",
    "\n",
    ">>[1.3.1 Information about the application train dataframe](#initexp4)\n",
    "\n",
    ">>[1.3.2 Information about the application test dataframe](#initexp5)\n",
    "\n",
    ">>[1.3.3 Information about the bureau dataframe](#initexp6)\n",
    "\n",
    "\n",
    ">>[1.3.4 Information about the app_train_bureau dataframe](#initexp7)\n",
    "\n",
    ">>[1.3.5 Information about the app_test_bureau dataframe](#initexp8)\n",
    "\n",
    "[2. Data Cleaning: Handling Missing Values and Outliers](#initexp9)\n",
    "\n",
    ">[2.1 Cleaning the application train dataframe](#initexp10)\n",
    "\n",
    ">>[2.1.1 Replacing the remaining null values in the dataframe](#initexp11)\n",
    "\n",
    ">>[2.1.2 Using Winsorization to handle outliers](#initexp12)\n",
    "\n",
    ">[2.2 Cleaning the application test dataframe](#initexp13)\n",
    "\n",
    ">[2.3 Cleaning the Bureau Dataframe](#initexp13.1)\n",
    "\n",
    ">[2.4 Joining the Clean Train and Clean Bureau Dataframe](#initexp13.2)\n",
    "\n",
    ">[2.5 Joining the Clean Test and Clean Bureau Dataframe](#initexp14)\n",
    "\n",
    "[3. Identifying the Performance Benchmark Established by the Majority Class Classifier](#initexp15)\n",
    "\n",
    "[4.KNN Model](#initexp16)\n",
    "\n",
    ">[4.1 KNN Model (with K = 5) on Cleaned App_train Dataframe](#initexp17)\n",
    "\n",
    ">[4.2 KNN Model (with K = 3) on Cleaned App_train Dataframe](#initexp18)\n",
    "\n",
    ">[4.3 KNN Model (with K = 3) on Cleaned App_train Dataframe with Sampling](#initexp19)\n",
    "\n",
    ">[4.4 KNN Model (with K = 3) on Cleaned App_train_bureau Dataframe](#initexp20)\n",
    "\n",
    ">[4.5 KNN Model (with K = 5) on Cleaned App_train Dataframe](#initexp21)\n",
    "\n",
    ">[4.6 KNN Model (with K = 5) on Cleaned App_train Dataframe with Sampling](#initexp22)\n",
    "\n",
    ">[4.7 KNN Results](#initexp23)\n",
    "\n",
    ">[5.Light Gradient Boosting Model](#initexp24)\n",
    "\n",
    ">[5.1 LGB Model on Cleaned App_train Dataframe](#initexp25)\n",
    "\n",
    ">[5.2 LGB Model on Cleaned App_train Dataframe with Sampling](#initexp26)\n",
    "\n",
    ">[5.3 LGB Model on Cleaned App_train_bureau Dataframe](#initexp27)\n",
    "\n",
    ">[5.4 LGB Model on Cleaned App_train_bureau Dataframe with Sampling](#initexp28)\n",
    "\n",
    ">[5.5 LGB Results](#initexp29)\n",
    "\n",
    "[6.Gradient Boosting Model](#initexp30)\n",
    "\n",
    ">[6.1 Gradient Boosting Model on Cleaned App_train Dataframe](#initexp31)\n",
    "\n",
    ">[6.2 Gradient Boosting Results](#initexp32)\n",
    "\n",
    "[7. Comparison of LGB & GB Results](#initexp33)\n",
    "\n",
    "[8.Naive Bayes](#initexp34)\n",
    "\n",
    "[9.Logistic Regression](#initexp35)\n",
    "\n",
    "[10.Random Forest](#initexp36)\n",
    "\n",
    "[11.Gradient Boosting](#initexp37)\n",
    "\n",
    "[12.Ensemble Modeling using Voting Classifier](#initexp38)\n",
    "\n",
    "[13.Modeling Process](#initexp39)\n",
    "\n",
    "[14.Results](#initexp40)\n",
    "\n",
    "[15.Model Rankings](#initexp41)\n",
    "\n",
    "[16.Contributions](#initexp42)"
   ]
  },
  {
   "cell_type": "markdown",
   "id": "934Pef2bGsf8",
   "metadata": {
    "id": "934Pef2bGsf8"
   },
   "source": [
    "# <a name = \"init\"> **Introduction**"
   ]
  },
  {
   "cell_type": "markdown",
   "id": "Q687GdpkGqoO",
   "metadata": {
    "id": "Q687GdpkGqoO"
   },
   "source": [
    "\n",
    "\n",
    "In today's fast-paced world, access to credit plays a crucial role in enabling individuals to fulfill their goals and aspirations. However, the existing limitations of traditional banking institutions, including reliance on limited data and conventional risk assessment methods, often hinder deserving applicants, especially those with limited credit histories, from obtaining loans. Home Credit, a global consumer finance provider, strives to bridge this gap by offering innovative and personalized lending solutions, empowering unbanked and underserved individuals to access financial opportunities.\n",
    "\n",
    "The Home Credit problem is paramount as it addresses the pressing need for fair and inclusive credit access while ensuring responsible lending practices. Accurately identifying potential defaulters is a pivotal aspect of Home Credit, as it minimizes financial risks, enhances profitability, and effectively channels resources toward customers with a higher probability of repayment.\n",
    "\n",
    "To tackle this challenge, our team has developed various machine learning models designed to assess default risk based on the independent variables specified in the Home Credit problem. These models incorporate advanced analytics techniques and methodologies, providing a comprehensive and insightful understanding of creditworthiness. By compiling and comparing these models, we aim to present an in-depth analysis and evaluation of each approach, facilitating a better understanding of their strengths and weaknesses in addressing the Home Credit problem.\n"
   ]
  },
  {
   "cell_type": "markdown",
   "id": "71a821d2",
   "metadata": {
    "id": "71a821d2"
   },
   "source": [
    "## <a name = \"initexp\">1.1 Importing Libraries + Bring in Data</a>"
   ]
  },
  {
   "cell_type": "markdown",
   "id": "3a911abd",
   "metadata": {
    "id": "3a911abd"
   },
   "source": [
    "## <a name = \"initexp1\">1.1 Importing Libraries</a>"
   ]
  },
  {
   "cell_type": "code",
   "execution_count": null,
   "id": "pEhi42Nv7MYS",
   "metadata": {
    "colab": {
     "base_uri": "https://localhost:8080/"
    },
    "id": "pEhi42Nv7MYS",
    "outputId": "2b2cb69f-7bdb-42a8-93e3-0bd96d2e1d62"
   },
   "outputs": [
    {
     "name": "stdout",
     "output_type": "stream",
     "text": [
      "Collecting category_encoders\n",
      "  Downloading category_encoders-2.6.1-py2.py3-none-any.whl (81 kB)\n",
      "\u001b[?25l     \u001b[90m━━━━━━━━━━━━━━━━━━━━━━━━━━━━━━━━━━━━━━━━\u001b[0m \u001b[32m0.0/81.9 kB\u001b[0m \u001b[31m?\u001b[0m eta \u001b[36m-:--:--\u001b[0m\r",
      "\u001b[2K     \u001b[90m━━━━━━━━━━━━━━━━━━━━━━━━━━━━━━━━━━━━━━━━\u001b[0m \u001b[32m81.9/81.9 kB\u001b[0m \u001b[31m5.7 MB/s\u001b[0m eta \u001b[36m0:00:00\u001b[0m\n",
      "\u001b[?25hRequirement already satisfied: numpy>=1.14.0 in /usr/local/lib/python3.10/dist-packages (from category_encoders) (1.22.4)\n",
      "Requirement already satisfied: scikit-learn>=0.20.0 in /usr/local/lib/python3.10/dist-packages (from category_encoders) (1.2.2)\n",
      "Requirement already satisfied: scipy>=1.0.0 in /usr/local/lib/python3.10/dist-packages (from category_encoders) (1.10.1)\n",
      "Requirement already satisfied: statsmodels>=0.9.0 in /usr/local/lib/python3.10/dist-packages (from category_encoders) (0.13.5)\n",
      "Requirement already satisfied: pandas>=1.0.5 in /usr/local/lib/python3.10/dist-packages (from category_encoders) (1.5.3)\n",
      "Requirement already satisfied: patsy>=0.5.1 in /usr/local/lib/python3.10/dist-packages (from category_encoders) (0.5.3)\n",
      "Requirement already satisfied: python-dateutil>=2.8.1 in /usr/local/lib/python3.10/dist-packages (from pandas>=1.0.5->category_encoders) (2.8.2)\n",
      "Requirement already satisfied: pytz>=2020.1 in /usr/local/lib/python3.10/dist-packages (from pandas>=1.0.5->category_encoders) (2022.7.1)\n",
      "Requirement already satisfied: six in /usr/local/lib/python3.10/dist-packages (from patsy>=0.5.1->category_encoders) (1.16.0)\n",
      "Requirement already satisfied: joblib>=1.1.1 in /usr/local/lib/python3.10/dist-packages (from scikit-learn>=0.20.0->category_encoders) (1.2.0)\n",
      "Requirement already satisfied: threadpoolctl>=2.0.0 in /usr/local/lib/python3.10/dist-packages (from scikit-learn>=0.20.0->category_encoders) (3.1.0)\n",
      "Requirement already satisfied: packaging>=21.3 in /usr/local/lib/python3.10/dist-packages (from statsmodels>=0.9.0->category_encoders) (23.1)\n",
      "Installing collected packages: category_encoders\n",
      "Successfully installed category_encoders-2.6.1\n",
      "Collecting imblearn\n",
      "  Downloading imblearn-0.0-py2.py3-none-any.whl (1.9 kB)\n",
      "Requirement already satisfied: imbalanced-learn in /usr/local/lib/python3.10/dist-packages (from imblearn) (0.10.1)\n",
      "Requirement already satisfied: numpy>=1.17.3 in /usr/local/lib/python3.10/dist-packages (from imbalanced-learn->imblearn) (1.22.4)\n",
      "Requirement already satisfied: scipy>=1.3.2 in /usr/local/lib/python3.10/dist-packages (from imbalanced-learn->imblearn) (1.10.1)\n",
      "Requirement already satisfied: scikit-learn>=1.0.2 in /usr/local/lib/python3.10/dist-packages (from imbalanced-learn->imblearn) (1.2.2)\n",
      "Requirement already satisfied: joblib>=1.1.1 in /usr/local/lib/python3.10/dist-packages (from imbalanced-learn->imblearn) (1.2.0)\n",
      "Requirement already satisfied: threadpoolctl>=2.0.0 in /usr/local/lib/python3.10/dist-packages (from imbalanced-learn->imblearn) (3.1.0)\n",
      "Installing collected packages: imblearn\n",
      "Successfully installed imblearn-0.0\n",
      "Requirement already satisfied: xgboost in /usr/local/lib/python3.10/dist-packages (1.7.6)\n",
      "Requirement already satisfied: numpy in /usr/local/lib/python3.10/dist-packages (from xgboost) (1.22.4)\n",
      "Requirement already satisfied: scipy in /usr/local/lib/python3.10/dist-packages (from xgboost) (1.10.1)\n"
     ]
    }
   ],
   "source": [
    "!pip install category_encoders\n",
    "!pip install imblearn\n",
    "!pip install xgboost"
   ]
  },
  {
   "cell_type": "code",
   "execution_count": 1,
   "id": "06d6dbb3",
   "metadata": {
    "id": "06d6dbb3"
   },
   "outputs": [],
   "source": [
    "import numpy as np\n",
    "import pandas as pd\n",
    "import matplotlib.pyplot as plt\n",
    "import seaborn as sns\n",
    "import re\n",
    "import time\n"
   ]
  },
  {
   "cell_type": "code",
   "execution_count": 2,
   "id": "NqQd-eGe7DsH",
   "metadata": {
    "id": "NqQd-eGe7DsH"
   },
   "outputs": [],
   "source": [
    "import pandas as pd\n",
    "import numpy as np\n",
    "import matplotlib.pyplot as plt\n",
    "from sklearn.ensemble import RandomForestClassifier, GradientBoostingClassifier, VotingClassifier\n",
    "from sklearn.neighbors import KNeighborsClassifier\n",
    "from sklearn.model_selection import GridSearchCV\n",
    "from sklearn.model_selection import train_test_split\n",
    "from sklearn import linear_model, metrics\n",
    "from sklearn.metrics import roc_auc_score, accuracy_score, confusion_matrix, precision_score, recall_score, ConfusionMatrixDisplay, classification_report\n",
    "import category_encoders as ce\n",
    "from sklearn.linear_model import LogisticRegression\n",
    "from sklearn.utils import resample\n",
    "from sklearn.naive_bayes import GaussianNB\n",
    "from sklearn.preprocessing import MinMaxScaler, StandardScaler\n",
    "import xgboost as xgb\n",
    "from imblearn.over_sampling import SMOTE\n",
    "from sklearn.decomposition import PCA\n",
    "from imblearn.under_sampling import RandomUnderSampler"
   ]
  },
  {
   "cell_type": "markdown",
   "id": "a967c135",
   "metadata": {
    "id": "a967c135"
   },
   "source": [
    "## <a name = \"initexp2\"> 1.2 Reading in the Data"
   ]
  },
  {
   "cell_type": "code",
   "execution_count": 6,
   "id": "ufeSNjBJ7TdI",
   "metadata": {
    "colab": {
     "base_uri": "https://localhost:8080/"
    },
    "id": "ufeSNjBJ7TdI",
    "outputId": "65a50b8e-eccc-49e7-91a6-63c787cc4647"
   },
   "outputs": [
    {
     "name": "stdout",
     "output_type": "stream",
     "text": [
      "Mounted at /content/drive\n"
     ]
    }
   ],
   "source": [
    "from google.colab import drive\n",
    "drive.mount('/content/drive')"
   ]
  },
  {
   "cell_type": "code",
   "execution_count": 7,
   "id": "bb9gxGBb7tRF",
   "metadata": {
    "id": "bb9gxGBb7tRF"
   },
   "outputs": [],
   "source": [
    "import os\n",
    "os.chdir('/content/drive/MyDrive/home-credit-default-risk')"
   ]
  },
  {
   "cell_type": "code",
   "execution_count": 3,
   "id": "1b1bf116",
   "metadata": {
    "id": "1b1bf116"
   },
   "outputs": [],
   "source": [
    "# reading in the application train dataset\n",
    "app_train = pd.read_csv('application_train.csv',index_col='SK_ID_CURR')\n",
    "# reading in the application test dataset\n",
    "app_test = pd.read_csv('application_test.csv', index_col='SK_ID_CURR')\n",
    "# reading in the 'Bureau' dataset\n",
    "bureau = pd.read_csv('bureau.csv', index_col='SK_ID_CURR')\n",
    "# Joining Train and Bureau\n",
    "app_train_bureau = app_train.merge(bureau, on='SK_ID_CURR', how='inner')\n",
    "# Joining Test and Bureau\n",
    "app_test_bureau = app_test.merge(bureau, on='SK_ID_CURR', how='inner')"
   ]
  },
  {
   "cell_type": "markdown",
   "id": "04008539",
   "metadata": {
    "id": "04008539"
   },
   "source": [
    "## <a name = \"initexp3\"> 1.3 Basic Information about the Dataframes"
   ]
  },
  {
   "cell_type": "markdown",
   "id": "4b303d5b",
   "metadata": {
    "id": "4b303d5b"
   },
   "source": [
    "\n",
    "\n",
    "### <a name = \"initexp4\"> 1.3.1 Information about the application train dataframe\n"
   ]
  },
  {
   "cell_type": "code",
   "execution_count": 4,
   "id": "f37358da",
   "metadata": {
    "id": "f37358da"
   },
   "outputs": [
    {
     "name": "stdout",
     "output_type": "stream",
     "text": [
      "The shape is: (307511, 121)\n"
     ]
    }
   ],
   "source": [
    "# shape\n",
    "print('The shape is:',app_train.shape)"
   ]
  },
  {
   "cell_type": "code",
   "execution_count": 5,
   "id": "2a8b0332",
   "metadata": {
    "id": "2a8b0332"
   },
   "outputs": [
    {
     "name": "stdout",
     "output_type": "stream",
     "text": [
      "<class 'pandas.core.frame.DataFrame'>\n",
      "Int64Index: 307511 entries, 100002 to 456255\n",
      "Columns: 121 entries, TARGET to AMT_REQ_CREDIT_BUREAU_YEAR\n",
      "dtypes: float64(65), int64(40), object(16)\n",
      "memory usage: 286.2+ MB\n",
      "None\n"
     ]
    }
   ],
   "source": [
    "# Information about the data types of the columns\n",
    "print(app_train.info())"
   ]
  },
  {
   "cell_type": "code",
   "execution_count": 6,
   "id": "40b00913",
   "metadata": {
    "id": "40b00913"
   },
   "outputs": [
    {
     "name": "stdout",
     "output_type": "stream",
     "text": [
      "              TARGET   CNT_CHILDREN  AMT_INCOME_TOTAL    AMT_CREDIT  \\\n",
      "count  307511.000000  307511.000000      3.075110e+05  3.075110e+05   \n",
      "mean        0.080729       0.417052      1.687979e+05  5.990260e+05   \n",
      "std         0.272419       0.722121      2.371231e+05  4.024908e+05   \n",
      "min         0.000000       0.000000      2.565000e+04  4.500000e+04   \n",
      "25%         0.000000       0.000000      1.125000e+05  2.700000e+05   \n",
      "50%         0.000000       0.000000      1.471500e+05  5.135310e+05   \n",
      "75%         0.000000       1.000000      2.025000e+05  8.086500e+05   \n",
      "max         1.000000      19.000000      1.170000e+08  4.050000e+06   \n",
      "\n",
      "         AMT_ANNUITY  AMT_GOODS_PRICE  REGION_POPULATION_RELATIVE  \\\n",
      "count  307499.000000     3.072330e+05               307511.000000   \n",
      "mean    27108.573909     5.383962e+05                    0.020868   \n",
      "std     14493.737315     3.694465e+05                    0.013831   \n",
      "min      1615.500000     4.050000e+04                    0.000290   \n",
      "25%     16524.000000     2.385000e+05                    0.010006   \n",
      "50%     24903.000000     4.500000e+05                    0.018850   \n",
      "75%     34596.000000     6.795000e+05                    0.028663   \n",
      "max    258025.500000     4.050000e+06                    0.072508   \n",
      "\n",
      "          DAYS_BIRTH  DAYS_EMPLOYED  DAYS_REGISTRATION  ...  FLAG_DOCUMENT_18  \\\n",
      "count  307511.000000  307511.000000      307511.000000  ...     307511.000000   \n",
      "mean   -16036.995067   63815.045904       -4986.120328  ...          0.008130   \n",
      "std      4363.988632  141275.766519        3522.886321  ...          0.089798   \n",
      "min    -25229.000000  -17912.000000      -24672.000000  ...          0.000000   \n",
      "25%    -19682.000000   -2760.000000       -7479.500000  ...          0.000000   \n",
      "50%    -15750.000000   -1213.000000       -4504.000000  ...          0.000000   \n",
      "75%    -12413.000000    -289.000000       -2010.000000  ...          0.000000   \n",
      "max     -7489.000000  365243.000000           0.000000  ...          1.000000   \n",
      "\n",
      "       FLAG_DOCUMENT_19  FLAG_DOCUMENT_20  FLAG_DOCUMENT_21  \\\n",
      "count     307511.000000     307511.000000     307511.000000   \n",
      "mean           0.000595          0.000507          0.000335   \n",
      "std            0.024387          0.022518          0.018299   \n",
      "min            0.000000          0.000000          0.000000   \n",
      "25%            0.000000          0.000000          0.000000   \n",
      "50%            0.000000          0.000000          0.000000   \n",
      "75%            0.000000          0.000000          0.000000   \n",
      "max            1.000000          1.000000          1.000000   \n",
      "\n",
      "       AMT_REQ_CREDIT_BUREAU_HOUR  AMT_REQ_CREDIT_BUREAU_DAY  \\\n",
      "count               265992.000000              265992.000000   \n",
      "mean                     0.006402                   0.007000   \n",
      "std                      0.083849                   0.110757   \n",
      "min                      0.000000                   0.000000   \n",
      "25%                      0.000000                   0.000000   \n",
      "50%                      0.000000                   0.000000   \n",
      "75%                      0.000000                   0.000000   \n",
      "max                      4.000000                   9.000000   \n",
      "\n",
      "       AMT_REQ_CREDIT_BUREAU_WEEK  AMT_REQ_CREDIT_BUREAU_MON  \\\n",
      "count               265992.000000              265992.000000   \n",
      "mean                     0.034362                   0.267395   \n",
      "std                      0.204685                   0.916002   \n",
      "min                      0.000000                   0.000000   \n",
      "25%                      0.000000                   0.000000   \n",
      "50%                      0.000000                   0.000000   \n",
      "75%                      0.000000                   0.000000   \n",
      "max                      8.000000                  27.000000   \n",
      "\n",
      "       AMT_REQ_CREDIT_BUREAU_QRT  AMT_REQ_CREDIT_BUREAU_YEAR  \n",
      "count              265992.000000               265992.000000  \n",
      "mean                    0.265474                    1.899974  \n",
      "std                     0.794056                    1.869295  \n",
      "min                     0.000000                    0.000000  \n",
      "25%                     0.000000                    0.000000  \n",
      "50%                     0.000000                    1.000000  \n",
      "75%                     0.000000                    3.000000  \n",
      "max                   261.000000                   25.000000  \n",
      "\n",
      "[8 rows x 105 columns]\n"
     ]
    }
   ],
   "source": [
    "# Descriptive statistics of the numeric columns\n",
    "print(app_train.describe())"
   ]
  },
  {
   "cell_type": "code",
   "execution_count": null,
   "id": "ba3547dc",
   "metadata": {
    "id": "ba3547dc"
   },
   "outputs": [],
   "source": [
    "# Displaying the number of missing values in each column\n",
    "print(app_train.isnull().sum())"
   ]
  },
  {
   "cell_type": "markdown",
   "id": "e5187d0c",
   "metadata": {
    "id": "e5187d0c"
   },
   "source": [
    "### <a name = \"initexp5\"> 1.3.2 Information about the application test dataframe"
   ]
  },
  {
   "cell_type": "code",
   "execution_count": 7,
   "id": "702737e6",
   "metadata": {
    "id": "702737e6"
   },
   "outputs": [
    {
     "name": "stdout",
     "output_type": "stream",
     "text": [
      "The shape is: (48744, 120)\n"
     ]
    }
   ],
   "source": [
    "# shape\n",
    "print('The shape is:',app_test.shape)"
   ]
  },
  {
   "cell_type": "code",
   "execution_count": 8,
   "id": "6801313e",
   "metadata": {
    "id": "6801313e"
   },
   "outputs": [
    {
     "name": "stdout",
     "output_type": "stream",
     "text": [
      "<class 'pandas.core.frame.DataFrame'>\n",
      "Int64Index: 48744 entries, 100001 to 456250\n",
      "Columns: 120 entries, NAME_CONTRACT_TYPE to AMT_REQ_CREDIT_BUREAU_YEAR\n",
      "dtypes: float64(65), int64(39), object(16)\n",
      "memory usage: 45.0+ MB\n",
      "None\n"
     ]
    }
   ],
   "source": [
    "# Information about the data types of the columns\n",
    "print(app_test.info())"
   ]
  },
  {
   "cell_type": "code",
   "execution_count": 9,
   "id": "2ab98a53",
   "metadata": {
    "id": "2ab98a53"
   },
   "outputs": [
    {
     "name": "stdout",
     "output_type": "stream",
     "text": [
      "       CNT_CHILDREN  AMT_INCOME_TOTAL    AMT_CREDIT    AMT_ANNUITY  \\\n",
      "count  48744.000000      4.874400e+04  4.874400e+04   48720.000000   \n",
      "mean       0.397054      1.784318e+05  5.167404e+05   29426.240209   \n",
      "std        0.709047      1.015226e+05  3.653970e+05   16016.368315   \n",
      "min        0.000000      2.694150e+04  4.500000e+04    2295.000000   \n",
      "25%        0.000000      1.125000e+05  2.606400e+05   17973.000000   \n",
      "50%        0.000000      1.575000e+05  4.500000e+05   26199.000000   \n",
      "75%        1.000000      2.250000e+05  6.750000e+05   37390.500000   \n",
      "max       20.000000      4.410000e+06  2.245500e+06  180576.000000   \n",
      "\n",
      "       AMT_GOODS_PRICE  REGION_POPULATION_RELATIVE    DAYS_BIRTH  \\\n",
      "count     4.874400e+04                48744.000000  48744.000000   \n",
      "mean      4.626188e+05                    0.021226 -16068.084605   \n",
      "std       3.367102e+05                    0.014428   4325.900393   \n",
      "min       4.500000e+04                    0.000253 -25195.000000   \n",
      "25%       2.250000e+05                    0.010006 -19637.000000   \n",
      "50%       3.960000e+05                    0.018850 -15785.000000   \n",
      "75%       6.300000e+05                    0.028663 -12496.000000   \n",
      "max       2.245500e+06                    0.072508  -7338.000000   \n",
      "\n",
      "       DAYS_EMPLOYED  DAYS_REGISTRATION  DAYS_ID_PUBLISH  ...  \\\n",
      "count   48744.000000       48744.000000     48744.000000  ...   \n",
      "mean    67485.366322       -4967.652716     -3051.712949  ...   \n",
      "std    144348.507136        3552.612035      1569.276709  ...   \n",
      "min    -17463.000000      -23722.000000     -6348.000000  ...   \n",
      "25%     -2910.000000       -7459.250000     -4448.000000  ...   \n",
      "50%     -1293.000000       -4490.000000     -3234.000000  ...   \n",
      "75%      -296.000000       -1901.000000     -1706.000000  ...   \n",
      "max    365243.000000           0.000000         0.000000  ...   \n",
      "\n",
      "       FLAG_DOCUMENT_18  FLAG_DOCUMENT_19  FLAG_DOCUMENT_20  FLAG_DOCUMENT_21  \\\n",
      "count      48744.000000           48744.0           48744.0           48744.0   \n",
      "mean           0.001559               0.0               0.0               0.0   \n",
      "std            0.039456               0.0               0.0               0.0   \n",
      "min            0.000000               0.0               0.0               0.0   \n",
      "25%            0.000000               0.0               0.0               0.0   \n",
      "50%            0.000000               0.0               0.0               0.0   \n",
      "75%            0.000000               0.0               0.0               0.0   \n",
      "max            1.000000               0.0               0.0               0.0   \n",
      "\n",
      "       AMT_REQ_CREDIT_BUREAU_HOUR  AMT_REQ_CREDIT_BUREAU_DAY  \\\n",
      "count                42695.000000               42695.000000   \n",
      "mean                     0.002108                   0.001803   \n",
      "std                      0.046373                   0.046132   \n",
      "min                      0.000000                   0.000000   \n",
      "25%                      0.000000                   0.000000   \n",
      "50%                      0.000000                   0.000000   \n",
      "75%                      0.000000                   0.000000   \n",
      "max                      2.000000                   2.000000   \n",
      "\n",
      "       AMT_REQ_CREDIT_BUREAU_WEEK  AMT_REQ_CREDIT_BUREAU_MON  \\\n",
      "count                42695.000000               42695.000000   \n",
      "mean                     0.002787                   0.009299   \n",
      "std                      0.054037                   0.110924   \n",
      "min                      0.000000                   0.000000   \n",
      "25%                      0.000000                   0.000000   \n",
      "50%                      0.000000                   0.000000   \n",
      "75%                      0.000000                   0.000000   \n",
      "max                      2.000000                   6.000000   \n",
      "\n",
      "       AMT_REQ_CREDIT_BUREAU_QRT  AMT_REQ_CREDIT_BUREAU_YEAR  \n",
      "count               42695.000000                42695.000000  \n",
      "mean                    0.546902                    1.983769  \n",
      "std                     0.693305                    1.838873  \n",
      "min                     0.000000                    0.000000  \n",
      "25%                     0.000000                    0.000000  \n",
      "50%                     0.000000                    2.000000  \n",
      "75%                     1.000000                    3.000000  \n",
      "max                     7.000000                   17.000000  \n",
      "\n",
      "[8 rows x 104 columns]\n"
     ]
    }
   ],
   "source": [
    "# Descriptive statistics of the numeric columns\n",
    "print(app_test.describe())"
   ]
  },
  {
   "cell_type": "code",
   "execution_count": null,
   "id": "b75f0042",
   "metadata": {
    "id": "b75f0042"
   },
   "outputs": [],
   "source": [
    "# Displaying the number of missing values in each column\n",
    "print(app_test.isnull().sum())"
   ]
  },
  {
   "cell_type": "markdown",
   "id": "037b200f",
   "metadata": {
    "id": "037b200f"
   },
   "source": [
    "### <a name = \"initexp6\"> 1.3.3 Information about the bureau dataframe"
   ]
  },
  {
   "cell_type": "code",
   "execution_count": 10,
   "id": "3e186960",
   "metadata": {
    "id": "3e186960"
   },
   "outputs": [
    {
     "name": "stdout",
     "output_type": "stream",
     "text": [
      "(1716428, 16)\n"
     ]
    }
   ],
   "source": [
    "# Shape\n",
    "print(bureau.shape)"
   ]
  },
  {
   "cell_type": "code",
   "execution_count": 11,
   "id": "59d8c15d",
   "metadata": {
    "id": "59d8c15d"
   },
   "outputs": [
    {
     "name": "stdout",
     "output_type": "stream",
     "text": [
      "<class 'pandas.core.frame.DataFrame'>\n",
      "Int64Index: 1716428 entries, 215354 to 246829\n",
      "Data columns (total 16 columns):\n",
      " #   Column                  Dtype  \n",
      "---  ------                  -----  \n",
      " 0   SK_ID_BUREAU            int64  \n",
      " 1   CREDIT_ACTIVE           object \n",
      " 2   CREDIT_CURRENCY         object \n",
      " 3   DAYS_CREDIT             int64  \n",
      " 4   CREDIT_DAY_OVERDUE      int64  \n",
      " 5   DAYS_CREDIT_ENDDATE     float64\n",
      " 6   DAYS_ENDDATE_FACT       float64\n",
      " 7   AMT_CREDIT_MAX_OVERDUE  float64\n",
      " 8   CNT_CREDIT_PROLONG      int64  \n",
      " 9   AMT_CREDIT_SUM          float64\n",
      " 10  AMT_CREDIT_SUM_DEBT     float64\n",
      " 11  AMT_CREDIT_SUM_LIMIT    float64\n",
      " 12  AMT_CREDIT_SUM_OVERDUE  float64\n",
      " 13  CREDIT_TYPE             object \n",
      " 14  DAYS_CREDIT_UPDATE      int64  \n",
      " 15  AMT_ANNUITY             float64\n",
      "dtypes: float64(8), int64(5), object(3)\n",
      "memory usage: 222.6+ MB\n",
      "None\n"
     ]
    }
   ],
   "source": [
    "# Information about the data types of the columns\n",
    "print(bureau.info())"
   ]
  },
  {
   "cell_type": "code",
   "execution_count": 12,
   "id": "b8cc66e9",
   "metadata": {
    "id": "b8cc66e9"
   },
   "outputs": [
    {
     "name": "stdout",
     "output_type": "stream",
     "text": [
      "       SK_ID_BUREAU   DAYS_CREDIT  CREDIT_DAY_OVERDUE  DAYS_CREDIT_ENDDATE  \\\n",
      "count  1.716428e+06  1.716428e+06        1.716428e+06         1.610875e+06   \n",
      "mean   5.924434e+06 -1.142108e+03        8.181666e-01         5.105174e+02   \n",
      "std    5.322657e+05  7.951649e+02        3.654443e+01         4.994220e+03   \n",
      "min    5.000000e+06 -2.922000e+03        0.000000e+00        -4.206000e+04   \n",
      "25%    5.463954e+06 -1.666000e+03        0.000000e+00        -1.138000e+03   \n",
      "50%    5.926304e+06 -9.870000e+02        0.000000e+00        -3.300000e+02   \n",
      "75%    6.385681e+06 -4.740000e+02        0.000000e+00         4.740000e+02   \n",
      "max    6.843457e+06  0.000000e+00        2.792000e+03         3.119900e+04   \n",
      "\n",
      "       DAYS_ENDDATE_FACT  AMT_CREDIT_MAX_OVERDUE  CNT_CREDIT_PROLONG  \\\n",
      "count       1.082775e+06            5.919400e+05        1.716428e+06   \n",
      "mean       -1.017437e+03            3.825418e+03        6.410406e-03   \n",
      "std         7.140106e+02            2.060316e+05        9.622391e-02   \n",
      "min        -4.202300e+04            0.000000e+00        0.000000e+00   \n",
      "25%        -1.489000e+03            0.000000e+00        0.000000e+00   \n",
      "50%        -8.970000e+02            0.000000e+00        0.000000e+00   \n",
      "75%        -4.250000e+02            0.000000e+00        0.000000e+00   \n",
      "max         0.000000e+00            1.159872e+08        9.000000e+00   \n",
      "\n",
      "       AMT_CREDIT_SUM  AMT_CREDIT_SUM_DEBT  AMT_CREDIT_SUM_LIMIT  \\\n",
      "count    1.716415e+06         1.458759e+06          1.124648e+06   \n",
      "mean     3.549946e+05         1.370851e+05          6.229515e+03   \n",
      "std      1.149811e+06         6.774011e+05          4.503203e+04   \n",
      "min      0.000000e+00        -4.705600e+06         -5.864061e+05   \n",
      "25%      5.130000e+04         0.000000e+00          0.000000e+00   \n",
      "50%      1.255185e+05         0.000000e+00          0.000000e+00   \n",
      "75%      3.150000e+05         4.015350e+04          0.000000e+00   \n",
      "max      5.850000e+08         1.701000e+08          4.705600e+06   \n",
      "\n",
      "       AMT_CREDIT_SUM_OVERDUE  DAYS_CREDIT_UPDATE   AMT_ANNUITY  \n",
      "count            1.716428e+06        1.716428e+06  4.896370e+05  \n",
      "mean             3.791276e+01       -5.937483e+02  1.571276e+04  \n",
      "std              5.937650e+03        7.207473e+02  3.258269e+05  \n",
      "min              0.000000e+00       -4.194700e+04  0.000000e+00  \n",
      "25%              0.000000e+00       -9.080000e+02  0.000000e+00  \n",
      "50%              0.000000e+00       -3.950000e+02  0.000000e+00  \n",
      "75%              0.000000e+00       -3.300000e+01  1.350000e+04  \n",
      "max              3.756681e+06        3.720000e+02  1.184534e+08  \n"
     ]
    }
   ],
   "source": [
    "# Descriptive statistics of the numeric columns\n",
    "print(bureau.describe())"
   ]
  },
  {
   "cell_type": "code",
   "execution_count": 13,
   "id": "5e8e1491",
   "metadata": {
    "id": "5e8e1491"
   },
   "outputs": [
    {
     "name": "stdout",
     "output_type": "stream",
     "text": [
      "SK_ID_BUREAU                    0\n",
      "CREDIT_ACTIVE                   0\n",
      "CREDIT_CURRENCY                 0\n",
      "DAYS_CREDIT                     0\n",
      "CREDIT_DAY_OVERDUE              0\n",
      "DAYS_CREDIT_ENDDATE        105553\n",
      "DAYS_ENDDATE_FACT          633653\n",
      "AMT_CREDIT_MAX_OVERDUE    1124488\n",
      "CNT_CREDIT_PROLONG              0\n",
      "AMT_CREDIT_SUM                 13\n",
      "AMT_CREDIT_SUM_DEBT        257669\n",
      "AMT_CREDIT_SUM_LIMIT       591780\n",
      "AMT_CREDIT_SUM_OVERDUE          0\n",
      "CREDIT_TYPE                     0\n",
      "DAYS_CREDIT_UPDATE              0\n",
      "AMT_ANNUITY               1226791\n",
      "dtype: int64\n"
     ]
    }
   ],
   "source": [
    "# Displaying the number of missing values in each column\n",
    "print(bureau.isnull().sum())"
   ]
  },
  {
   "cell_type": "markdown",
   "id": "9ba1671d",
   "metadata": {
    "id": "9ba1671d"
   },
   "source": [
    "### <a name = \"initexp7\"> 1.3.4 Information about the app_train_bureau dataframe"
   ]
  },
  {
   "cell_type": "code",
   "execution_count": 14,
   "id": "71ab36c6",
   "metadata": {
    "id": "71ab36c6"
   },
   "outputs": [
    {
     "name": "stdout",
     "output_type": "stream",
     "text": [
      "(1465325, 137)\n"
     ]
    }
   ],
   "source": [
    "# Shape\n",
    "print(app_train_bureau.shape)"
   ]
  },
  {
   "cell_type": "markdown",
   "id": "bd08f0fc",
   "metadata": {
    "id": "bd08f0fc"
   },
   "source": [
    "### <a name = \"initexp8\"> 1.3.5 Information about the app_test_bureau dataframe"
   ]
  },
  {
   "cell_type": "code",
   "execution_count": 15,
   "id": "500a97ba",
   "metadata": {
    "id": "500a97ba"
   },
   "outputs": [
    {
     "name": "stdout",
     "output_type": "stream",
     "text": [
      "(251103, 136)\n"
     ]
    }
   ],
   "source": [
    "# Shape\n",
    "print(app_test_bureau.shape)"
   ]
  },
  {
   "cell_type": "markdown",
   "id": "11eaf333",
   "metadata": {
    "id": "11eaf333"
   },
   "source": [
    "In general, each dataframe has a lot of null values and needs cleaning"
   ]
  },
  {
   "cell_type": "markdown",
   "id": "36141ac6",
   "metadata": {
    "id": "36141ac6"
   },
   "source": [
    "## <a name = \"initexp9\"> 2. Data Cleaning: Handling Missing Values and Outliers"
   ]
  },
  {
   "cell_type": "markdown",
   "id": "e779fd32",
   "metadata": {
    "id": "e779fd32"
   },
   "source": [
    "## <a name = \"initexp10\"> 2.1 Cleaning the application train dataframe"
   ]
  },
  {
   "cell_type": "code",
   "execution_count": 16,
   "id": "9c8d36fe",
   "metadata": {
    "id": "9c8d36fe",
    "scrolled": false
   },
   "outputs": [
    {
     "name": "stdout",
     "output_type": "stream",
     "text": [
      "+----------+----------------+\n",
      "| Outliers | Missing Values |\n",
      "+----------+----------------+\n",
      "|  24825   |       0        |\n",
      "|   N/A    |       0        |\n",
      "|   N/A    |       0        |\n",
      "|   N/A    |       0        |\n",
      "|   N/A    |       0        |\n",
      "|   4272   |       0        |\n",
      "|   454    |       0        |\n",
      "|   3255   |       0        |\n",
      "|   2959   |       12       |\n",
      "|   4173   |      278       |\n",
      "|   N/A    |      1292      |\n",
      "|   N/A    |       0        |\n",
      "|   N/A    |       0        |\n",
      "|   N/A    |       0        |\n",
      "|   N/A    |       0        |\n",
      "|   8412   |       0        |\n",
      "|    0     |       0        |\n",
      "|    0     |       0        |\n",
      "|   749    |       0        |\n",
      "|    0     |       0        |\n",
      "|   3369   |     202929     |\n",
      "|    1     |       0        |\n",
      "|    0     |       0        |\n",
      "|    0     |       0        |\n",
      "|   574    |       0        |\n",
      "|    0     |       0        |\n",
      "|  17442   |       0        |\n",
      "|   N/A    |     96391      |\n",
      "|   4007   |       2        |\n",
      "|    0     |       0        |\n",
      "|    0     |       0        |\n",
      "|   N/A    |       0        |\n",
      "|   622    |       0        |\n",
      "|   4657   |       0        |\n",
      "|  15612   |       0        |\n",
      "|  12503   |       0        |\n",
      "|  24039   |       0        |\n",
      "|    0     |       0        |\n",
      "|    0     |       0        |\n",
      "|   N/A    |       0        |\n",
      "|    0     |     173378     |\n",
      "|    0     |      660       |\n",
      "|    0     |     60965      |\n",
      "|   2982   |     156061     |\n",
      "|   1973   |     179943     |\n",
      "|   694    |     150007     |\n",
      "|   1193   |     204488     |\n",
      "|   1705   |     214865     |\n",
      "|   2440   |     163891     |\n",
      "|   2214   |     154828     |\n",
      "|   2611   |     153020     |\n",
      "|   591    |     208642     |\n",
      "|   2089   |     182590     |\n",
      "|   1746   |     210199     |\n",
      "|   3191   |     154350     |\n",
      "|   722    |     213514     |\n",
      "|   2412   |     169682     |\n",
      "|   3010   |     156061     |\n",
      "|   2063   |     179943     |\n",
      "|   680    |     150007     |\n",
      "|   1208   |     204488     |\n",
      "|   1693   |     214865     |\n",
      "|   3355   |     163891     |\n",
      "|   2628   |     154828     |\n",
      "|   2638   |     153020     |\n",
      "|   480    |     208642     |\n",
      "|   2140   |     182590     |\n",
      "|   1807   |     210199     |\n",
      "|   3344   |     154350     |\n",
      "|   678    |     213514     |\n",
      "|   2462   |     169682     |\n",
      "|   3035   |     156061     |\n",
      "|   1991   |     179943     |\n",
      "|   652    |     150007     |\n",
      "|   1206   |     204488     |\n",
      "|   1723   |     214865     |\n",
      "|   2429   |     163891     |\n",
      "|   2226   |     154828     |\n",
      "|   2734   |     153020     |\n",
      "|   553    |     208642     |\n",
      "|   2133   |     182590     |\n",
      "|   1769   |     210199     |\n",
      "|   3225   |     154350     |\n",
      "|   720    |     213514     |\n",
      "|   2432   |     169682     |\n",
      "|   N/A    |     210295     |\n",
      "|   N/A    |     154297     |\n",
      "|   3323   |     148431     |\n",
      "|   N/A    |     156341     |\n",
      "|   N/A    |     145755     |\n",
      "|   6161   |      1021      |\n",
      "|   6838   |      1021      |\n",
      "|   5985   |      1021      |\n",
      "|   3928   |      1021      |\n",
      "|   640    |       1        |\n",
      "|    13    |       0        |\n",
      "|    0     |       0        |\n",
      "|    25    |       0        |\n",
      "|   4648   |       0        |\n",
      "|  27078   |       0        |\n",
      "|    59    |       0        |\n",
      "|  25024   |       0        |\n",
      "|   1198   |       0        |\n",
      "|    7     |       0        |\n",
      "|   1203   |       0        |\n",
      "|    2     |       0        |\n",
      "|   1084   |       0        |\n",
      "|   903    |       0        |\n",
      "|   372    |       0        |\n",
      "|   3053   |       0        |\n",
      "|    82    |       0        |\n",
      "|   2500   |       0        |\n",
      "|   183    |       0        |\n",
      "|   156    |       0        |\n",
      "|   103    |       0        |\n",
      "|   1626   |     41519      |\n",
      "|   1489   |     41519      |\n",
      "|   8536   |     41519      |\n",
      "|   3235   |     41519      |\n",
      "|   2301   |     41519      |\n",
      "|   3364   |     41519      |\n",
      "+----------+----------------+\n"
     ]
    }
   ],
   "source": [
    "#!pip install prettytable\n",
    "from prettytable import PrettyTable\n",
    "\n",
    "# Creating a table to see each columns total outliers and missing values\n",
    "app_train_outlier = PrettyTable(['Outliers', \"Missing Values\"])\n",
    "\n",
    "for col in app_train.columns:\n",
    "\n",
    "    missing_values = app_train[col].isnull().sum()\n",
    "\n",
    "    # Check for outliers\n",
    "    if app_train[col].dtype in ['int64', 'float64']:\n",
    "        mean = app_train[col].mean()\n",
    "        std = app_train[col].std()\n",
    "        outliers = ((app_train[col] - mean).abs() > 3 * std).sum()\n",
    "    else:\n",
    "        outliers = 'N/A'\n",
    "\n",
    "    # Add the row to the table\n",
    "    app_train_outlier.add_row([outliers, missing_values])\n",
    "\n",
    "# Print the table\n",
    "print(app_train_outlier)"
   ]
  },
  {
   "cell_type": "markdown",
   "id": "Z_ymqpRm9QOy",
   "metadata": {
    "id": "Z_ymqpRm9QOy"
   },
   "source": [
    "**Dropping columns with over 30% of their values being null**"
   ]
  },
  {
   "cell_type": "code",
   "execution_count": 17,
   "id": "e7bf81e1",
   "metadata": {
    "id": "e7bf81e1"
   },
   "outputs": [
    {
     "name": "stdout",
     "output_type": "stream",
     "text": [
      "                      Column  % of Nulls in Column\n",
      "41           COMMONAREA_MEDI             69.872297\n",
      "13            COMMONAREA_AVG             69.872297\n",
      "27           COMMONAREA_MODE             69.872297\n",
      "49  NONLIVINGAPARTMENTS_MEDI             69.432963\n",
      "35  NONLIVINGAPARTMENTS_MODE             69.432963\n",
      "..                       ...                   ...\n",
      "7               EXT_SOURCE_2              0.214626\n",
      "1            AMT_GOODS_PRICE              0.090403\n",
      "0                AMT_ANNUITY              0.003902\n",
      "5            CNT_FAM_MEMBERS              0.000650\n",
      "60    DAYS_LAST_PHONE_CHANGE              0.000325\n",
      "\n",
      "[67 rows x 2 columns]\n",
      "The new shape is: (307511, 71)\n"
     ]
    }
   ],
   "source": [
    "## Dropping columns with over 30% of their values being null\n",
    "\n",
    "# Create a copy\n",
    "app_train_org = app_train.copy()\n",
    "\n",
    "# Getting the percentage of nulls in each column\n",
    "columns = app_train.isnull().sum()[app_train.isnull().sum() != 0].keys()\n",
    "nulls_per = app_train.isnull().sum()[app_train.isnull().sum() != 0].values/app_train.shape[0]\n",
    "\n",
    "# create a dataframe with only columns with nulls.\n",
    "app_train_nulls = pd.DataFrame({'Column':columns,'% of Nulls in Column':nulls_per*100})\n",
    "app_train_nulls = app_train_nulls.sort_values(by='% of Nulls in Column', ascending=False)\n",
    "\n",
    "print(app_train_nulls)\n",
    "\n",
    "# extract these columns from app_train_nulls\n",
    "drop_cols = app_train_nulls[app_train_nulls['% of Nulls in Column']>30]['Column'].tolist()\n",
    "keep_cols = [col for col in app_train.columns if col not in drop_cols]\n",
    "\n",
    "# extract the new train dataframe\n",
    "app_train_cleaned = app_train[keep_cols]\n",
    "\n",
    "# Shape of new dataframe\n",
    "print('The new shape is:', app_train_cleaned.shape)"
   ]
  },
  {
   "cell_type": "markdown",
   "id": "1d9a26dc",
   "metadata": {
    "id": "1d9a26dc"
   },
   "source": [
    "Doing this removed 50 columns"
   ]
  },
  {
   "cell_type": "markdown",
   "id": "MPAvfX7G9n35",
   "metadata": {
    "id": "MPAvfX7G9n35"
   },
   "source": [
    "**Dropping Rows**"
   ]
  },
  {
   "cell_type": "code",
   "execution_count": 18,
   "id": "74ff96c6",
   "metadata": {
    "id": "74ff96c6"
   },
   "outputs": [
    {
     "name": "stdout",
     "output_type": "stream",
     "text": [
      "The new shape is: (307506, 71)\n"
     ]
    }
   ],
   "source": [
    "# From doing EDA, we know there was 4 rows with 'XNA' in the Code_Gender Column. Lets remove those rows\n",
    "app_train_cleaned = app_train_cleaned[app_train_cleaned['CODE_GENDER']!='XNA']\n",
    "\n",
    "# We also know there is a value in the AMT_INCOME_TOTAL column that must be a value entered wrong. Lets remove that\n",
    "app_train_cleaned = app_train_cleaned[app_train_cleaned['AMT_INCOME_TOTAL'] != 117000000.0]\n",
    "print('The new shape is:', app_train_cleaned.shape)"
   ]
  },
  {
   "cell_type": "markdown",
   "id": "1adfc576",
   "metadata": {
    "id": "1adfc576"
   },
   "source": [
    "## <a name = \"initexp11\"> 2.1.1 Replacing the remaining null values in the dataframe"
   ]
  },
  {
   "cell_type": "code",
   "execution_count": 19,
   "id": "1c1029f6",
   "metadata": {
    "id": "1c1029f6"
   },
   "outputs": [],
   "source": [
    "## Replacing the remaining null values in the dataframe\n",
    "\n",
    "# Create a copy of the DataFrame\n",
    "app_train_cleaned_copy = app_train_cleaned.copy()\n",
    "\n",
    "# In categorical columns, replacing nulls with the most frequent value of that column\n",
    "for cat in app_train_cleaned_copy.describe(include='object').columns:\n",
    "    mode_value = app_train_cleaned_copy[cat].mode().values[0]\n",
    "    app_train_cleaned_copy.loc[:, cat].fillna(mode_value, inplace=True)\n",
    "\n",
    "# In numerical columns, replacing nulls with the median value of that column\n",
    "for num in app_train_cleaned_copy.describe().columns:\n",
    "    median_value = app_train_cleaned_copy[num].median()\n",
    "    app_train_cleaned_copy.loc[:, num].fillna(median_value, inplace=True)\n",
    "\n",
    "app_train_cleaned = app_train_cleaned_copy"
   ]
  },
  {
   "cell_type": "code",
   "execution_count": 20,
   "id": "64d61b91",
   "metadata": {
    "id": "64d61b91"
   },
   "outputs": [
    {
     "name": "stdout",
     "output_type": "stream",
     "text": [
      "TARGET                        0\n",
      "NAME_CONTRACT_TYPE            0\n",
      "CODE_GENDER                   0\n",
      "FLAG_OWN_CAR                  0\n",
      "FLAG_OWN_REALTY               0\n",
      "                             ..\n",
      "AMT_REQ_CREDIT_BUREAU_DAY     0\n",
      "AMT_REQ_CREDIT_BUREAU_WEEK    0\n",
      "AMT_REQ_CREDIT_BUREAU_MON     0\n",
      "AMT_REQ_CREDIT_BUREAU_QRT     0\n",
      "AMT_REQ_CREDIT_BUREAU_YEAR    0\n",
      "Length: 71, dtype: int64\n"
     ]
    }
   ],
   "source": [
    "## Verifying that there are now no more null values in the dataframe\n",
    "print(app_train_cleaned.isnull().sum())"
   ]
  },
  {
   "cell_type": "markdown",
   "id": "664b1326",
   "metadata": {
    "id": "664b1326"
   },
   "source": [
    "**There are now no more nulls in the dataframe**"
   ]
  },
  {
   "cell_type": "markdown",
   "id": "kpP22Is49_j2",
   "metadata": {
    "id": "kpP22Is49_j2"
   },
   "source": [
    "## <a name = \"initexp12\"> 2.1.2 Using Winsorization to handle outliers**"
   ]
  },
  {
   "cell_type": "code",
   "execution_count": 21,
   "id": "3fcabe5d",
   "metadata": {
    "id": "3fcabe5d"
   },
   "outputs": [
    {
     "name": "stdout",
     "output_type": "stream",
     "text": [
      "The new shape is: (307506, 71)\n"
     ]
    }
   ],
   "source": [
    "## Using Winsorization to handle outliers\n",
    "\n",
    "from scipy.stats.mstats import winsorize\n",
    "numeric_columns = app_train_cleaned.select_dtypes(include=[np.number]).drop(columns=['TARGET'])\n",
    "\n",
    "for column in numeric_columns.columns:\n",
    "    app_train_cleaned[column] = winsorize(app_train_cleaned[column], limits=[0.05, 0.05])\n",
    "\n",
    "print('The new shape is:', app_train_cleaned.shape)"
   ]
  },
  {
   "cell_type": "code",
   "execution_count": null,
   "id": "ddf2749a",
   "metadata": {
    "id": "ddf2749a"
   },
   "outputs": [],
   "source": [
    "## Did not end up doing this\n",
    "\n",
    "## Using the z-score method to remove outliers\n",
    "\n",
    "# Getting numeric columns (excluding the target column)\n",
    "#numeric_columns = app_train_cleaned.select_dtypes(include=[np.number]).drop(columns=['TARGET'])\n",
    "\n",
    "# Calculate Z-scores for each value\n",
    "#z_scores = np.abs((numeric_columns - numeric_columns.mean()) / numeric_columns.std())\n",
    "#print(z_scores)\n",
    "\n",
    "# Keep rows where all Z-scores are less than 3\n",
    "#app_train_cleaned = app_train_cleaned[(z_scores < 3).all(axis=1)]\n",
    "\n",
    "#print('The new shape is:', app_train_cleaned.shape)"
   ]
  },
  {
   "cell_type": "markdown",
   "id": "7c02a04c",
   "metadata": {
    "id": "7c02a04c"
   },
   "source": [
    "## <a name = \"initexp13\"> 2.2 Cleaning the application test dataframe"
   ]
  },
  {
   "cell_type": "code",
   "execution_count": 22,
   "id": "60afe361",
   "metadata": {
    "id": "60afe361",
    "scrolled": false
   },
   "outputs": [
    {
     "name": "stdout",
     "output_type": "stream",
     "text": [
      "+----------+----------------+\n",
      "| Outliers | Missing Values |\n",
      "+----------+----------------+\n",
      "|   N/A    |       0        |\n",
      "|   N/A    |       0        |\n",
      "|   N/A    |       0        |\n",
      "|   N/A    |       0        |\n",
      "|   606    |       0        |\n",
      "|   571    |       0        |\n",
      "|   1129   |       0        |\n",
      "|   505    |       24       |\n",
      "|   1119   |       0        |\n",
      "|   N/A    |      911       |\n",
      "|   N/A    |       0        |\n",
      "|   N/A    |       0        |\n",
      "|   N/A    |       0        |\n",
      "|   N/A    |       0        |\n",
      "|   1565   |       0        |\n",
      "|    0     |       0        |\n",
      "|    0     |       0        |\n",
      "|   124    |       0        |\n",
      "|    0     |       0        |\n",
      "|   465    |     32312      |\n",
      "|    1     |       0        |\n",
      "|    0     |       0        |\n",
      "|    0     |       0        |\n",
      "|    78    |       0        |\n",
      "|    0     |       0        |\n",
      "|    0     |       0        |\n",
      "|   N/A    |     15605      |\n",
      "|   576    |       0        |\n",
      "|    0     |       0        |\n",
      "|    1     |       0        |\n",
      "|   N/A    |       0        |\n",
      "|    98    |       0        |\n",
      "|   918    |       0        |\n",
      "|   2689   |       0        |\n",
      "|   2049   |       0        |\n",
      "|   3776   |       0        |\n",
      "|    0     |       0        |\n",
      "|    0     |       0        |\n",
      "|   N/A    |       0        |\n",
      "|    0     |     20532      |\n",
      "|    0     |       8        |\n",
      "|    0     |      8668      |\n",
      "|   477    |     23887      |\n",
      "|   348    |     27641      |\n",
      "|    77    |     22856      |\n",
      "|   193    |     31818      |\n",
      "|   260    |     33495      |\n",
      "|   463    |     25189      |\n",
      "|   374    |     23579      |\n",
      "|   230    |     23321      |\n",
      "|   112    |     32466      |\n",
      "|   343    |     28254      |\n",
      "|   287    |     32780      |\n",
      "|   533    |     23552      |\n",
      "|   114    |     33347      |\n",
      "|   383    |     26084      |\n",
      "|   482    |     23887      |\n",
      "|   367    |     27641      |\n",
      "|    76    |     22856      |\n",
      "|   198    |     31818      |\n",
      "|   266    |     33495      |\n",
      "|   435    |     25189      |\n",
      "|   372    |     23579      |\n",
      "|   195    |     23321      |\n",
      "|    97    |     32466      |\n",
      "|   357    |     28254      |\n",
      "|   318    |     32780      |\n",
      "|   564    |     23552      |\n",
      "|   109    |     33347      |\n",
      "|   392    |     26084      |\n",
      "|   480    |     23887      |\n",
      "|   355    |     27641      |\n",
      "|    75    |     22856      |\n",
      "|   195    |     31818      |\n",
      "|   259    |     33495      |\n",
      "|   457    |     25189      |\n",
      "|   375    |     23579      |\n",
      "|   220    |     23321      |\n",
      "|   107    |     32466      |\n",
      "|   350    |     28254      |\n",
      "|   292    |     32780      |\n",
      "|   538    |     23552      |\n",
      "|   115    |     33347      |\n",
      "|   384    |     26084      |\n",
      "|   N/A    |     32797      |\n",
      "|   N/A    |     23619      |\n",
      "|   565    |     22624      |\n",
      "|   N/A    |     23893      |\n",
      "|   N/A    |     22209      |\n",
      "|   216    |       29       |\n",
      "|   1077   |       29       |\n",
      "|   213    |       29       |\n",
      "|   617    |       29       |\n",
      "|    70    |       0        |\n",
      "|    0     |       0        |\n",
      "|    0     |       0        |\n",
      "|    5     |       0        |\n",
      "|   719    |       0        |\n",
      "|   4264   |       0        |\n",
      "|    2     |       0        |\n",
      "|   4312   |       0        |\n",
      "|   219    |       0        |\n",
      "|    0     |       0        |\n",
      "|    57    |       0        |\n",
      "|    0     |       0        |\n",
      "|    0     |       0        |\n",
      "|    0     |       0        |\n",
      "|    0     |       0        |\n",
      "|    0     |       0        |\n",
      "|    0     |       0        |\n",
      "|    76    |       0        |\n",
      "|    0     |       0        |\n",
      "|    0     |       0        |\n",
      "|    0     |       0        |\n",
      "|    89    |      6049      |\n",
      "|    70    |      6049      |\n",
      "|   116    |      6049      |\n",
      "|   354    |      6049      |\n",
      "|   565    |      6049      |\n",
      "|   461    |      6049      |\n",
      "+----------+----------------+\n"
     ]
    }
   ],
   "source": [
    "#!pip install prettytable\n",
    "from prettytable import PrettyTable\n",
    "\n",
    "# Creating a table to see each columns total outliers and missing values\n",
    "app_test_outlier = PrettyTable(['Outliers', \"Missing Values\"])\n",
    "\n",
    "for col in app_test.columns:\n",
    "\n",
    "    missing_values = app_test[col].isnull().sum()\n",
    "\n",
    "    # Check for outliers\n",
    "    if app_test[col].dtype in ['int64', 'float64']:\n",
    "        mean = app_test[col].mean()\n",
    "        std = app_test[col].std()\n",
    "        outliers = ((app_test[col] - mean).abs() > 3 * std).sum()\n",
    "    else:\n",
    "        outliers = 'N/A'\n",
    "\n",
    "    # Add the row to the table\n",
    "    app_test_outlier.add_row([outliers, missing_values])\n",
    "\n",
    "# Print the table\n",
    "print(app_test_outlier)"
   ]
  },
  {
   "cell_type": "code",
   "execution_count": 23,
   "id": "0318b010",
   "metadata": {
    "id": "0318b010"
   },
   "outputs": [
    {
     "name": "stdout",
     "output_type": "stream",
     "text": [
      "                      Column  % of Nulls in Column\n",
      "25           COMMONAREA_MODE             68.716150\n",
      "39           COMMONAREA_MEDI             68.716150\n",
      "11            COMMONAREA_AVG             68.716150\n",
      "47  NONLIVINGAPARTMENTS_MEDI             68.412523\n",
      "19   NONLIVINGAPARTMENTS_AVG             68.412523\n",
      "..                       ...                   ...\n",
      "56  OBS_60_CNT_SOCIAL_CIRCLE              0.059495\n",
      "55  DEF_30_CNT_SOCIAL_CIRCLE              0.059495\n",
      "54  OBS_30_CNT_SOCIAL_CIRCLE              0.059495\n",
      "0                AMT_ANNUITY              0.049237\n",
      "5               EXT_SOURCE_2              0.016412\n",
      "\n",
      "[64 rows x 2 columns]\n",
      "The new shape is:  (48744, 70)\n"
     ]
    }
   ],
   "source": [
    "## Dropping columns with over 30% of their values being null\n",
    "\n",
    "# Create a copy\n",
    "app_test_org = app_test.copy()\n",
    "\n",
    "# Getting the percentage of nulls in each column\n",
    "columns = app_test.isnull().sum()[app_test.isnull().sum() != 0].keys()\n",
    "nulls_per = app_test.isnull().sum()[app_test.isnull().sum() != 0].values/app_test.shape[0]\n",
    "\n",
    "# create a dataframe with only columns with nulls.\n",
    "app_test_nulls = pd.DataFrame({'Column':columns,'% of Nulls in Column':nulls_per*100})\n",
    "app_test_nulls = app_test_nulls.sort_values(by='% of Nulls in Column', ascending=False)\n",
    "\n",
    "print(app_test_nulls)\n",
    "\n",
    "# extract these columns from app_test_nulls\n",
    "drop_cols = app_test_nulls[app_test_nulls['% of Nulls in Column']>30]['Column'].tolist()\n",
    "keep_cols = [col for col in app_test.columns if col not in drop_cols]\n",
    "\n",
    "# extract the new test dataframe\n",
    "app_test_cleaned = app_test[keep_cols]\n",
    "\n",
    "# Shape of new dataframe\n",
    "print('The new shape is: ', app_test_cleaned.shape)"
   ]
  },
  {
   "cell_type": "markdown",
   "id": "87430200",
   "metadata": {
    "id": "87430200"
   },
   "source": [
    "Doing this removed 50 columns"
   ]
  },
  {
   "cell_type": "code",
   "execution_count": 24,
   "id": "61495f57",
   "metadata": {
    "id": "61495f57"
   },
   "outputs": [],
   "source": [
    "## Replacing the remaining null values in the dataframe\n",
    "\n",
    "# Create a copy of the DataFrame\n",
    "app_test_cleaned_copy = app_test_cleaned.copy()\n",
    "\n",
    "# In categorical columns, replacing nulls with the most frequent value of that column\n",
    "for cate in app_test_cleaned_copy.describe(include='object').columns:\n",
    "    mode_value = app_test_cleaned_copy[cate].mode().values[0]\n",
    "    app_test_cleaned_copy.loc[:, cate].fillna(mode_value, inplace=True)\n",
    "\n",
    "# In numerical columns, replacing nulls with the median value of that column\n",
    "for nume in app_test_cleaned_copy.describe().columns:\n",
    "    median_value = app_test_cleaned_copy[nume].median()\n",
    "    app_test_cleaned_copy.loc[:, nume].fillna(median_value, inplace=True)\n",
    "\n",
    "app_test_cleaned = app_test_cleaned_copy"
   ]
  },
  {
   "cell_type": "code",
   "execution_count": 25,
   "id": "57661824",
   "metadata": {
    "id": "57661824"
   },
   "outputs": [
    {
     "name": "stdout",
     "output_type": "stream",
     "text": [
      "NAME_CONTRACT_TYPE            0\n",
      "CODE_GENDER                   0\n",
      "FLAG_OWN_CAR                  0\n",
      "FLAG_OWN_REALTY               0\n",
      "CNT_CHILDREN                  0\n",
      "                             ..\n",
      "AMT_REQ_CREDIT_BUREAU_DAY     0\n",
      "AMT_REQ_CREDIT_BUREAU_WEEK    0\n",
      "AMT_REQ_CREDIT_BUREAU_MON     0\n",
      "AMT_REQ_CREDIT_BUREAU_QRT     0\n",
      "AMT_REQ_CREDIT_BUREAU_YEAR    0\n",
      "Length: 70, dtype: int64\n"
     ]
    }
   ],
   "source": [
    "## Verifying that there are now no more null values in the dataframe\n",
    "print(app_test_cleaned.isnull().sum())"
   ]
  },
  {
   "cell_type": "markdown",
   "id": "2d99f813",
   "metadata": {
    "id": "2d99f813"
   },
   "source": [
    "There are now no more nulls in the dataframe"
   ]
  },
  {
   "cell_type": "markdown",
   "id": "5ac4b337",
   "metadata": {
    "id": "5ac4b337"
   },
   "source": [
    "The dataframe is fully cleaned."
   ]
  },
  {
   "cell_type": "markdown",
   "id": "74010c42",
   "metadata": {
    "id": "74010c42"
   },
   "source": [
    "## <a name = \"initexp13.1\"> 2.3 Cleaning the Bureau Dataframe"
   ]
  },
  {
   "cell_type": "code",
   "execution_count": 26,
   "id": "05b0d4f2",
   "metadata": {
    "id": "05b0d4f2"
   },
   "outputs": [
    {
     "name": "stdout",
     "output_type": "stream",
     "text": [
      "+----------+----------------+\n",
      "| Outliers | Missing Values |\n",
      "+----------+----------------+\n",
      "|    0     |       0        |\n",
      "|   N/A    |       0        |\n",
      "|   N/A    |       0        |\n",
      "|    0     |       0        |\n",
      "|   1194   |       0        |\n",
      "|  38630   |     105553     |\n",
      "|    1     |     633653     |\n",
      "|   199    |    1124488     |\n",
      "|   9114   |       0        |\n",
      "|  16756   |       13       |\n",
      "|  15543   |     257669     |\n",
      "|  15704   |     591780     |\n",
      "|   445    |       0        |\n",
      "|   N/A    |       0        |\n",
      "|   1409   |       0        |\n",
      "|   460    |    1226791     |\n",
      "+----------+----------------+\n"
     ]
    }
   ],
   "source": [
    "#!pip install prettytable\n",
    "from prettytable import PrettyTable\n",
    "\n",
    "# Creating a table to see each columns total outliers and missing values\n",
    "bureau_outlier = PrettyTable(['Outliers', \"Missing Values\"])\n",
    "\n",
    "for col in bureau.columns:\n",
    "\n",
    "    missing_values = bureau[col].isnull().sum()\n",
    "\n",
    "    # Check for outliers\n",
    "    if bureau[col].dtype in ['int64', 'float64']:\n",
    "        mean = bureau[col].mean()\n",
    "        std = bureau[col].std()\n",
    "        outliers = ((bureau[col] - mean).abs() > 3 * std).sum()\n",
    "    else:\n",
    "        outliers = 'N/A'\n",
    "\n",
    "    # Add the row to the table\n",
    "    bureau_outlier.add_row([outliers, missing_values])\n",
    "\n",
    "# Print the table\n",
    "print(bureau_outlier)"
   ]
  },
  {
   "cell_type": "code",
   "execution_count": 27,
   "id": "d35737fd",
   "metadata": {
    "id": "d35737fd"
   },
   "outputs": [
    {
     "name": "stdout",
     "output_type": "stream",
     "text": [
      "                   Column  % of Nulls in Column\n",
      "6             AMT_ANNUITY             71.473490\n",
      "2  AMT_CREDIT_MAX_OVERDUE             65.513264\n",
      "1       DAYS_ENDDATE_FACT             36.916958\n",
      "5    AMT_CREDIT_SUM_LIMIT             34.477415\n",
      "4     AMT_CREDIT_SUM_DEBT             15.011932\n",
      "0     DAYS_CREDIT_ENDDATE              6.149573\n",
      "3          AMT_CREDIT_SUM              0.000757\n",
      "The new shape is:  (1716428, 12)\n"
     ]
    }
   ],
   "source": [
    "## Dropping columns with over 30% of their values being null\n",
    "\n",
    "# Create a copy\n",
    "bureau_org = bureau.copy()\n",
    "\n",
    "# Getting the percentage of nulls in each column\n",
    "columns = bureau.isnull().sum()[bureau.isnull().sum() != 0].keys()\n",
    "nulls_per = bureau.isnull().sum()[bureau.isnull().sum() != 0].values/bureau.shape[0]\n",
    "\n",
    "# create a dataframe with only columns with nulls.\n",
    "bureau_nulls = pd.DataFrame({'Column':columns,'% of Nulls in Column':nulls_per*100})\n",
    "bureau_nulls = bureau_nulls.sort_values(by='% of Nulls in Column', ascending=False)\n",
    "\n",
    "print(bureau_nulls)\n",
    "\n",
    "# extract these columns from app_test_nulls\n",
    "drop_cols = bureau_nulls[bureau_nulls['% of Nulls in Column']>30]['Column'].tolist()\n",
    "keep_cols = [col for col in bureau.columns if col not in drop_cols]\n",
    "\n",
    "# extract the new test dataframe\n",
    "bureau_cleaned = bureau[keep_cols]\n",
    "\n",
    "# Shape of new dataframe\n",
    "print('The new shape is: ', bureau_cleaned.shape)"
   ]
  },
  {
   "cell_type": "markdown",
   "id": "43cf1b5e",
   "metadata": {
    "id": "43cf1b5e"
   },
   "source": [
    "## **Doing this made the dataframe clean**"
   ]
  },
  {
   "cell_type": "code",
   "execution_count": 28,
   "id": "5731fb95",
   "metadata": {
    "id": "5731fb95"
   },
   "outputs": [],
   "source": [
    "## Replacing the remaining null values in the dataframe\n",
    "\n",
    "# Create a copy of the DataFrame\n",
    "bureau_cleaned_copy = bureau_cleaned.copy()\n",
    "\n",
    "# In categorical columns, replacing nulls with the most frequent value of that column\n",
    "for cate in bureau_cleaned_copy.describe(include='object').columns:\n",
    "    mode_value = bureau_cleaned_copy[cate].mode().values[0]\n",
    "    bureau_cleaned_copy.loc[:, cate].fillna(mode_value, inplace=True)\n",
    "\n",
    "# In numerical columns, replacing nulls with the median value of that column\n",
    "for nume in bureau_cleaned_copy.describe().columns:\n",
    "    median_value = bureau_cleaned_copy[nume].median()\n",
    "    bureau_cleaned_copy.loc[:, nume].fillna(median_value, inplace=True)\n",
    "\n",
    "bureau_cleaned = bureau_cleaned_copy"
   ]
  },
  {
   "cell_type": "code",
   "execution_count": 29,
   "id": "47ceb851",
   "metadata": {
    "id": "47ceb851"
   },
   "outputs": [
    {
     "name": "stdout",
     "output_type": "stream",
     "text": [
      "SK_ID_BUREAU              0\n",
      "CREDIT_ACTIVE             0\n",
      "CREDIT_CURRENCY           0\n",
      "DAYS_CREDIT               0\n",
      "CREDIT_DAY_OVERDUE        0\n",
      "DAYS_CREDIT_ENDDATE       0\n",
      "CNT_CREDIT_PROLONG        0\n",
      "AMT_CREDIT_SUM            0\n",
      "AMT_CREDIT_SUM_DEBT       0\n",
      "AMT_CREDIT_SUM_OVERDUE    0\n",
      "CREDIT_TYPE               0\n",
      "DAYS_CREDIT_UPDATE        0\n",
      "dtype: int64\n"
     ]
    }
   ],
   "source": [
    "## Verifying that there are now no more null values in the dataframe\n",
    "print(bureau_cleaned.isnull().sum())"
   ]
  },
  {
   "cell_type": "markdown",
   "id": "3330e48b",
   "metadata": {
    "id": "3330e48b"
   },
   "source": [
    "## **There are now no more nulls.**"
   ]
  },
  {
   "cell_type": "markdown",
   "id": "8Npj5p0h-pN8",
   "metadata": {
    "id": "8Npj5p0h-pN8"
   },
   "source": [
    "### **Using Winsorization to handle outliers in the Bureau Dataframe**"
   ]
  },
  {
   "cell_type": "code",
   "execution_count": 30,
   "id": "e992390d",
   "metadata": {
    "id": "e992390d"
   },
   "outputs": [
    {
     "name": "stdout",
     "output_type": "stream",
     "text": [
      "The new shape is: (1716428, 12)\n"
     ]
    }
   ],
   "source": [
    "## Using Winsorization to handle outliers\n",
    "\n",
    "from scipy.stats.mstats import winsorize\n",
    "numeric_columns = bureau_cleaned.select_dtypes(include=[np.number])\n",
    "\n",
    "for column in numeric_columns.columns:\n",
    "    bureau_cleaned[column] = winsorize(bureau_cleaned[column], limits=[0.05, 0.05])\n",
    "\n",
    "print('The new shape is:', bureau_cleaned.shape)"
   ]
  },
  {
   "cell_type": "code",
   "execution_count": null,
   "id": "98797058",
   "metadata": {
    "id": "98797058"
   },
   "outputs": [],
   "source": [
    "# Did not end up doing this\n",
    "\n",
    "## Using the z-score method to remove outliers\n",
    "\n",
    "# Getting numeric columns\n",
    "#numeric_columns3 = bureau_cleaned.select_dtypes(include=[np.number])\n",
    "\n",
    "# Calculate Z-scores for each value\n",
    "#z_scores3 = np.abs((numeric_columns3 - numeric_columns3.mean()) / numeric_columns3.std())\n",
    "#print(z_scores3)\n",
    "\n",
    "# Keep rows where all Z-scores are less than 3\n",
    "#bureau_cleaned = bureau_cleaned[(z_scores3 < 3 ).all(axis=1)]\n",
    "\n",
    "#print('The new shape is:', bureau_cleaned.shape)"
   ]
  },
  {
   "cell_type": "markdown",
   "id": "ba853344",
   "metadata": {
    "id": "ba853344"
   },
   "source": [
    "Now, the outliers have been taken care of, and the dataframe is fully cleaned."
   ]
  },
  {
   "cell_type": "markdown",
   "id": "fd3b9e68",
   "metadata": {
    "id": "fd3b9e68"
   },
   "source": [
    "## <a name = \"initexp13.2\"> 2.4 Joining the Clean Train and Clean Bureau Dataframe"
   ]
  },
  {
   "cell_type": "code",
   "execution_count": 31,
   "id": "48d608bb",
   "metadata": {
    "id": "48d608bb"
   },
   "outputs": [
    {
     "name": "stdout",
     "output_type": "stream",
     "text": [
      "(1465287, 83)\n"
     ]
    }
   ],
   "source": [
    "# Joining\n",
    "app_train_bureau_clean = app_train_cleaned.merge(bureau_cleaned, on='SK_ID_CURR', how='inner')\n",
    "\n",
    "# New Shape\n",
    "print(app_train_bureau_clean.shape)"
   ]
  },
  {
   "cell_type": "markdown",
   "id": "412679d2",
   "metadata": {
    "id": "412679d2"
   },
   "source": [
    "**The original joined dataframe had 1465325 rows and 138 columns.\n",
    "This cleaned dataframe has 38 less rows and 55 less columns.**"
   ]
  },
  {
   "cell_type": "markdown",
   "id": "bd877b40",
   "metadata": {
    "id": "bd877b40"
   },
   "source": [
    "## <a name = \"initexp14\"> 2.5 Joining the Clean Test and Clean Bureau Dataframe"
   ]
  },
  {
   "cell_type": "code",
   "execution_count": 32,
   "id": "08e4dd32",
   "metadata": {
    "id": "08e4dd32"
   },
   "outputs": [
    {
     "name": "stdout",
     "output_type": "stream",
     "text": [
      "(251103, 82)\n"
     ]
    }
   ],
   "source": [
    "# Joining\n",
    "app_test_bureau_clean = app_test_cleaned.merge(bureau_cleaned, on='SK_ID_CURR', how='inner')\n",
    "\n",
    "# New Shape\n",
    "print(app_test_bureau_clean.shape)"
   ]
  },
  {
   "cell_type": "markdown",
   "id": "39613058",
   "metadata": {
    "id": "39613058"
   },
   "source": [
    "**The original joined dataframe had 251103 rows and 137 columns.\n",
    "This cleaned dataframe has 0 less rows and 55 less columns.**"
   ]
  },
  {
   "cell_type": "markdown",
   "id": "065916bd",
   "metadata": {
    "id": "065916bd"
   },
   "source": [
    "# <a name = \"initexp15\"> 3. Identifying the Performance Benchmark Established by the Majority Class Classifier"
   ]
  },
  {
   "cell_type": "code",
   "execution_count": 33,
   "id": "a3b866d3",
   "metadata": {
    "id": "a3b866d3"
   },
   "outputs": [
    {
     "name": "stdout",
     "output_type": "stream",
     "text": [
      "Performance Benchmark (Majority Class Classifier) for Original Dataframe: 91.93%\n"
     ]
    }
   ],
   "source": [
    "## Doing this for the app_train dataframe\n",
    "\n",
    "# Calculate the proportion of the majority class\n",
    "majority_class_proportion = app_train['TARGET'].value_counts(normalize=True)[0]\n",
    "\n",
    "# Calculate the performance benchmark as the proportion of the majority class\n",
    "performance_benchmark = majority_class_proportion\n",
    "\n",
    "print(\"Performance Benchmark (Majority Class Classifier) for Original Dataframe: {:.2%}\".format(performance_benchmark))"
   ]
  },
  {
   "cell_type": "code",
   "execution_count": 34,
   "id": "766c1c07",
   "metadata": {
    "id": "766c1c07"
   },
   "outputs": [
    {
     "name": "stdout",
     "output_type": "stream",
     "text": [
      "Performance Benchmark (Majority Class Classifier) for the Cleaned Dataframe: 91.93%\n"
     ]
    }
   ],
   "source": [
    "## Doing this for the app_train_cleaned dataframe\n",
    "\n",
    "# Calculate the proportion of the majority class\n",
    "majority_class_proportion = app_train_cleaned['TARGET'].value_counts(normalize=True)[0]\n",
    "\n",
    "# Calculate the performance benchmark as the proportion of the majority class\n",
    "performance_benchmark = majority_class_proportion\n",
    "\n",
    "print(\"Performance Benchmark (Majority Class Classifier) for the Cleaned Dataframe: {:.2%}\".format(performance_benchmark))"
   ]
  },
  {
   "cell_type": "code",
   "execution_count": 35,
   "id": "9df841c0",
   "metadata": {
    "id": "9df841c0"
   },
   "outputs": [
    {
     "name": "stdout",
     "output_type": "stream",
     "text": [
      "Performance Benchmark (Majority Class Classifier) for Original Joined Dataframe: 92.18%\n"
     ]
    }
   ],
   "source": [
    "## Doing this for the app_train_bureau dataframe\n",
    "\n",
    "# Calculate the proportion of the majority class\n",
    "majority_class_proportion = app_train_bureau['TARGET'].value_counts(normalize=True)[0]\n",
    "\n",
    "# Calculate the performance benchmark as the proportion of the majority class\n",
    "performance_benchmark = majority_class_proportion\n",
    "\n",
    "print(\"Performance Benchmark (Majority Class Classifier) for Original Joined Dataframe: {:.2%}\".format(performance_benchmark))"
   ]
  },
  {
   "cell_type": "code",
   "execution_count": 36,
   "id": "38f17a27",
   "metadata": {
    "id": "38f17a27"
   },
   "outputs": [
    {
     "name": "stdout",
     "output_type": "stream",
     "text": [
      "Performance Benchmark (Majority Class Classifier) for Cleaned Joined Dataframe: 92.18%\n"
     ]
    }
   ],
   "source": [
    "## Doing this for the app_train_bureau dataframe\n",
    "\n",
    "# Calculate the proportion of the majority class\n",
    "majority_class_proportion = app_train_bureau_clean['TARGET'].value_counts(normalize=True)[0]\n",
    "\n",
    "# Calculate the performance benchmark as the proportion of the majority class\n",
    "performance_benchmark = majority_class_proportion\n",
    "\n",
    "print(\"Performance Benchmark (Majority Class Classifier) for Cleaned Joined Dataframe: {:.2%}\".format(performance_benchmark))"
   ]
  },
  {
   "cell_type": "markdown",
   "id": "kVBXQJ_wAUza",
   "metadata": {
    "id": "kVBXQJ_wAUza"
   },
   "source": [
    "## **Modeling refers to the process of creating a mathematical or computational representation of a real-world phenomenon or system.In this project, we have various models such as Logistic Regression, KNN, Random Forest**"
   ]
  },
  {
   "cell_type": "markdown",
   "id": "17fb0334",
   "metadata": {
    "id": "17fb0334"
   },
   "source": [
    "# <a name = \"initexp16\"> 4. KNN Model"
   ]
  },
  {
   "cell_type": "markdown",
   "id": "994139e2",
   "metadata": {
    "id": "994139e2"
   },
   "source": [
    "## <a name = \"initexp17\"> 4.1 KNN Model (with K = 5) on Cleaned App_train Dataframe"
   ]
  },
  {
   "cell_type": "code",
   "execution_count": 37,
   "id": "42b97e0e",
   "metadata": {
    "id": "42b97e0e"
   },
   "outputs": [],
   "source": [
    "from sklearn.model_selection import train_test_split\n",
    "\n",
    "# Performing one-hot encoding on categorical columns\n",
    "categorical_columns = app_train_cleaned.select_dtypes(include=['object']).columns\n",
    "app_train_cleaned_encoded = pd.get_dummies(app_train_cleaned, columns=categorical_columns)\n",
    "\n",
    "app_train_cleaned_encoded_copy = app_train_cleaned_encoded.copy()\n",
    "\n",
    "# Separating features and target variable\n",
    "X = app_train_cleaned_encoded.drop('TARGET', axis=1)\n",
    "y = app_train_cleaned_encoded['TARGET']\n",
    "\n",
    "# Splitting the data into training and validation sets\n",
    "X_train, X_val, y_train, y_val = train_test_split(X, y, test_size=0.3, random_state=42)"
   ]
  },
  {
   "cell_type": "code",
   "execution_count": 38,
   "id": "75fc5f18",
   "metadata": {
    "id": "75fc5f18"
   },
   "outputs": [],
   "source": [
    "# Random Sample version\n",
    "from sklearn.model_selection import train_test_split\n",
    "\n",
    "# Sub-sampling random 150,000 rows from the dataframe\n",
    "train_sample = app_train_cleaned.sample(n=150000, random_state=42)\n",
    "\n",
    "# Performing one-hot encoding on categorical columns\n",
    "categorical_columns = train_sample.select_dtypes(include=['object']).columns\n",
    "app_train_cleaned_encoded = pd.get_dummies(train_sample, columns=categorical_columns)\n",
    "\n",
    "# Separating features and target variable\n",
    "X = app_train_cleaned_encoded.drop('TARGET', axis=1)\n",
    "y = app_train_cleaned_encoded['TARGET']\n",
    "\n",
    "# Splitting the data into training and validation sets\n",
    "X_train, X_val, y_train, y_val = train_test_split(X, y, test_size=0.3, random_state=42)\n"
   ]
  },
  {
   "cell_type": "code",
   "execution_count": 39,
   "id": "a9abd980",
   "metadata": {
    "id": "a9abd980"
   },
   "outputs": [
    {
     "name": "stdout",
     "output_type": "stream",
     "text": [
      "Accuracy of Training Model: 0.921647619047619\n",
      "Accuracy of Validation Model: 0.9128444444444445\n",
      "\n",
      "Training & Validation Confusion Metrices:\n",
      "Training   confusion matrix:\n",
      " [[96226   324]\n",
      " [ 7903   547]]\n",
      "Validation confusion matrix:\n",
      " [[41021   332]\n",
      " [ 3590    57]]\n"
     ]
    },
    {
     "data": {
      "image/png": "[encoded data removed]",
      "text/plain": [
       "<Figure size 640x480 with 2 Axes>"
      ]
     },
     "metadata": {},
     "output_type": "display_data"
    },
    {
     "data": {
      "image/png": "[encoded data removed]",
      "text/plain": [
       "<Figure size 640x480 with 2 Axes>"
      ]
     },
     "metadata": {},
     "output_type": "display_data"
    }
   ],
   "source": [
    "from sklearn.preprocessing import StandardScaler\n",
    "from sklearn.neighbors import KNeighborsClassifier\n",
    "from sklearn.metrics import confusion_matrix\n",
    "from sklearn.metrics import accuracy_score\n",
    "import seaborn as sns\n",
    "\n",
    "# Scaling\n",
    "#scaler = StandardScaler()\n",
    "#X_train_scaled = scaler.fit_transform(X_train)\n",
    "#X_val_scaled = scaler.transform(X_val)\n",
    "\n",
    "# Creating KNN with 5 Neighbors\n",
    "knn = KNeighborsClassifier(n_neighbors=5)\n",
    "\n",
    "# Training the model\n",
    "knn.fit(X_train, y_train)\n",
    "\n",
    "# Making predictions\n",
    "y_pred_val = knn.predict(X_val)\n",
    "y_pred_train = knn.predict(X_train)\n",
    "\n",
    "# Calculating accuracy and confusion matrix\n",
    "knn_accuracy_train = accuracy_score(y_train, y_pred_train)\n",
    "knn_accuracy_val = accuracy_score(y_val, y_pred_val)\n",
    "print(\"Accuracy of Training Model:\", knn_accuracy_train)\n",
    "print(\"Accuracy of Validation Model:\", knn_accuracy_val)\n",
    "print('')\n",
    "print('Training & Validation Confusion Metrices:')\n",
    "print('Training   confusion matrix:\\n', confusion_matrix(y_train, y_pred_train))\n",
    "print('Validation confusion matrix:\\n', confusion_matrix(y_val, y_pred_val))\n",
    "\n",
    "cm_train1 = confusion_matrix(y_train, y_pred_train)\n",
    "sns.heatmap(cm_train1, annot=True, fmt='d', cmap='Blues', yticklabels=['1', '0'], xticklabels=['1', '0'])\n",
    "plt.xlabel('Actual')\n",
    "plt.ylabel('Predicted')\n",
    "plt.title('Confusion Matrix - Training Set')\n",
    "plt.text(0.25, 0.2, f'TRUE POSITIVE ', ha='left', va='top', color='green', fontweight='bold')\n",
    "plt.text(1.8, 0.2, f'FALSE POSITIVE ', ha='right', va='top', color='red', fontweight='bold')\n",
    "plt.text(0.3, 1.7, f'FALSE NEGATIVE ', ha='left', va='bottom', color='red', fontweight='bold')\n",
    "plt.text(1.8, 1.7, f'TRUE NEGATIVE ', ha='right', va='bottom', color='green', fontweight='bold')\n",
    "plt.show()\n",
    "\n",
    "\n",
    "cm_val1 = confusion_matrix(y_val, y_pred_val)\n",
    "sns.heatmap(cm_val1, annot=True, fmt='d', cmap='Blues', yticklabels=['1', '0'], xticklabels=['1', '0'])\n",
    "plt.xlabel('Actual')\n",
    "plt.ylabel('Predicted')\n",
    "plt.title('Confusion Matrix - Training Set')\n",
    "plt.text(0.25, 0.2, f'TRUE POSITIVE ', ha='left', va='top', color='green', fontweight='bold')\n",
    "plt.text(1.8, 0.2, f'FALSE POSITIVE ', ha='right', va='top', color='red', fontweight='bold')\n",
    "plt.text(0.3, 1.7, f'FALSE NEGATIVE ', ha='left', va='bottom', color='red', fontweight='bold')\n",
    "plt.text(1.8, 1.7, f'TRUE NEGATIVE ', ha='right', va='bottom', color='green', fontweight='bold')\n",
    "plt.show()\n"
   ]
  },
  {
   "cell_type": "markdown",
   "id": "76271bec",
   "metadata": {
    "id": "76271bec"
   },
   "source": [
    "## <a name = \"initexp18\"> 4.2 KNN Model (with K = 3) on Cleaned App_train Dataframe"
   ]
  },
  {
   "cell_type": "code",
   "execution_count": 40,
   "id": "59d8aafd",
   "metadata": {
    "id": "59d8aafd"
   },
   "outputs": [
    {
     "name": "stdout",
     "output_type": "stream",
     "text": [
      "Accuracy of Training Model: 0.9286\n",
      "Accuracy of Validation Model: 0.9014666666666666\n",
      "\n",
      "Training & Validation Confusion Metrices:\n",
      "Training   confusion matrix:\n",
      " [[95786   764]\n",
      " [ 6733  1717]]\n",
      "Validation confusion matrix:\n",
      " [[40433   920]\n",
      " [ 3514   133]]\n"
     ]
    },
    {
     "data": {
      "image/png": "[encoded data removed]",
      "text/plain": [
       "<Figure size 640x480 with 2 Axes>"
      ]
     },
     "metadata": {},
     "output_type": "display_data"
    },
    {
     "data": {
      "image/png": "[encoded data removed]",
      "text/plain": [
       "<Figure size 640x480 with 2 Axes>"
      ]
     },
     "metadata": {},
     "output_type": "display_data"
    }
   ],
   "source": [
    "from sklearn.metrics import confusion_matrix\n",
    "\n",
    "# Creating KNN with 3 Neighbors\n",
    "knn = KNeighborsClassifier(n_neighbors=3)\n",
    "\n",
    "# Training the model\n",
    "knn.fit(X_train, y_train)\n",
    "\n",
    "# Making predictions\n",
    "y_pred_val = knn.predict(X_val)\n",
    "y_pred_train = knn.predict(X_train)\n",
    "\n",
    "# Calculating accuracy and confusion matrix\n",
    "knn2_accuracy_train = accuracy_score(y_train, y_pred_train)\n",
    "knn2_accuracy_val = accuracy_score(y_val, y_pred_val)\n",
    "print(\"Accuracy of Training Model:\", knn2_accuracy_train)\n",
    "print(\"Accuracy of Validation Model:\", knn2_accuracy_val)\n",
    "print('')\n",
    "print('Training & Validation Confusion Metrices:')\n",
    "print('Training   confusion matrix:\\n', confusion_matrix(y_train, y_pred_train))\n",
    "print('Validation confusion matrix:\\n', confusion_matrix(y_val, y_pred_val))\n",
    "\n",
    "\n",
    "cm_train2 = confusion_matrix(y_train, y_pred_train)\n",
    "sns.heatmap(cm_train2, annot=True, fmt='d', cmap='Greens', yticklabels=['1', '0'], xticklabels=['1', '0'])\n",
    "plt.xlabel('Actual')\n",
    "plt.ylabel('Predicted')\n",
    "plt.title('Confusion Matrix - Training Set')\n",
    "plt.text(0.25, 0.2, f'TRUE POSITIVE ', ha='left', va='top', color='green', fontweight='bold')\n",
    "plt.text(1.8, 0.2, f'FALSE POSITIVE ', ha='right', va='top', color='red', fontweight='bold')\n",
    "plt.text(0.3, 1.7, f'FALSE NEGATIVE ', ha='left', va='bottom', color='red', fontweight='bold')\n",
    "plt.text(1.8, 1.7, f'TRUE NEGATIVE ', ha='right', va='bottom', color='green', fontweight='bold')\n",
    "plt.show()\n",
    "\n",
    "\n",
    "cm_val2 = confusion_matrix(y_val, y_pred_val)\n",
    "sns.heatmap(cm_val2, annot=True, fmt='d', cmap='Greens', yticklabels=['1', '0'], xticklabels=['1', '0'])\n",
    "plt.xlabel('Actual')\n",
    "plt.ylabel('Predicted')\n",
    "plt.title('Confusion Matrix - Training Set')\n",
    "plt.text(0.25, 0.2, f'TRUE POSITIVE ', ha='left', va='top', color='green', fontweight='bold')\n",
    "plt.text(1.8, 0.2, f'FALSE POSITIVE ', ha='right', va='top', color='red', fontweight='bold')\n",
    "plt.text(0.3, 1.7, f'FALSE NEGATIVE ', ha='left', va='bottom', color='red', fontweight='bold')\n",
    "plt.text(1.8, 1.7, f'TRUE NEGATIVE ', ha='right', va='bottom', color='green', fontweight='bold')\n",
    "plt.show()"
   ]
  },
  {
   "cell_type": "markdown",
   "id": "0a519d2b",
   "metadata": {
    "id": "0a519d2b"
   },
   "source": [
    "# **Both of these models were too accurate, lets try balancing the target variable in the dataframe.**"
   ]
  },
  {
   "cell_type": "markdown",
   "id": "a625a6ce",
   "metadata": {
    "id": "a625a6ce"
   },
   "source": [
    "## <a name = \"initexp19\"> 4.3 KNN Model (with K = 3) on  App_train Dataframe with Sampling"
   ]
  },
  {
   "cell_type": "markdown",
   "id": "oKmygEKXLvY1",
   "metadata": {
    "id": "oKmygEKXLvY1"
   },
   "source": [
    "**Implementing Upsampling & Downsampling techniques, such as the Synthetic Minority Over-sampling Technique (SMOTE) for upsampling, or random undersampling, to address imbalanced target variables.**"
   ]
  },
  {
   "cell_type": "code",
   "execution_count": 41,
   "id": "322aa190",
   "metadata": {
    "id": "322aa190"
   },
   "outputs": [
    {
     "name": "stdout",
     "output_type": "stream",
     "text": [
      "Accuracy of Training Model: 0.8833288571997886\n",
      "Accuracy of Validation Model: 0.6630533755365737\n",
      "\n",
      "Training & Validation Confusion Matrices:\n",
      "Training   confusion matrix:\n",
      " [[54801 11157]\n",
      " [ 2310 47159]]\n",
      "Validation confusion matrix:\n",
      " [[58135 26669]\n",
      " [ 4415  3033]]\n"
     ]
    },
    {
     "data": {
      "image/png": "[encoded data removed]",
      "text/plain": [
       "<Figure size 640x480 with 2 Axes>"
      ]
     },
     "metadata": {},
     "output_type": "display_data"
    },
    {
     "data": {
      "image/png": "[encoded data removed]",
      "text/plain": [
       "<Figure size 640x480 with 2 Axes>"
      ]
     },
     "metadata": {},
     "output_type": "display_data"
    }
   ],
   "source": [
    "from sklearn.model_selection import train_test_split\n",
    "\n",
    "# Performing one-hot encoding on categorical columns\n",
    "categorical_columns = app_train_cleaned.select_dtypes(include=['object']).columns\n",
    "app_train_cleaned_encoded = pd.get_dummies(app_train_cleaned, columns=categorical_columns)\n",
    "\n",
    "# Separating features and target variable\n",
    "X = app_train_cleaned_encoded.drop('TARGET', axis=1)\n",
    "y = app_train_cleaned_encoded['TARGET']\n",
    "\n",
    "# Splitting the data into training and validation sets\n",
    "X_train, X_val, y_train, y_val = train_test_split(X, y, test_size=0.3, random_state=42)\n",
    "\n",
    "from imblearn.over_sampling import SMOTE\n",
    "from imblearn.under_sampling import RandomUnderSampler\n",
    "\n",
    "# Applying oversampling and undersampling\n",
    "oversampler = SMOTE(sampling_strategy=0.25)\n",
    "undersampler = RandomUnderSampler(sampling_strategy=0.75)\n",
    "\n",
    "X_train_oversampled, y_train_oversampled = oversampler.fit_resample(X_train, y_train)\n",
    "X_train_resampled, y_train_resampled = undersampler.fit_resample(X_train_oversampled, y_train_oversampled)\n",
    "\n",
    "# Creating KNN with 3 Neighbors\n",
    "knn_best = KNeighborsClassifier(n_neighbors=3)\n",
    "\n",
    "# Training the model\n",
    "knn_best.fit(X_train_resampled, y_train_resampled)\n",
    "\n",
    "# Making predictions\n",
    "y_pred_val = knn_best.predict(X_val)\n",
    "y_pred_train = knn_best.predict(X_train_resampled)\n",
    "\n",
    "# Calculating accuracy and confusion matrix\n",
    "knn_accuracy_train = accuracy_score(y_train_resampled, y_pred_train)\n",
    "knn_accuracy_val = accuracy_score(y_val, y_pred_val)\n",
    "print(\"Accuracy of Training Model:\", knn_accuracy_train)\n",
    "print(\"Accuracy of Validation Model:\", knn_accuracy_val)\n",
    "print('')\n",
    "print('Training & Validation Confusion Matrices:')\n",
    "print('Training   confusion matrix:\\n', confusion_matrix(y_train_resampled, y_pred_train))\n",
    "print('Validation confusion matrix:\\n', confusion_matrix(y_val, y_pred_val))\n",
    "\n",
    "\n",
    "cm_train3 = confusion_matrix(y_train_resampled, y_pred_train)\n",
    "sns.heatmap(cm_train3, annot=True, fmt='d', cmap='Blues', yticklabels=['1', '0'], xticklabels=['1', '0'])\n",
    "plt.xlabel('Actual')\n",
    "plt.ylabel('Predicted')\n",
    "plt.title('Confusion Matrix - Training Set')\n",
    "plt.text(0.25, 0.2, f'TRUE POSITIVE ', ha='left', va='top', color='green', fontweight='bold')\n",
    "plt.text(1.8, 0.2, f'FALSE POSITIVE ', ha='right', va='top', color='red', fontweight='bold')\n",
    "plt.text(0.3, 1.7, f'FALSE NEGATIVE ', ha='left', va='bottom', color='red', fontweight='bold')\n",
    "plt.text(1.8, 1.7, f'TRUE NEGATIVE ', ha='right', va='bottom', color='green', fontweight='bold')\n",
    "plt.show()\n",
    "\n",
    "\n",
    "cm_val3 = confusion_matrix(y_val, y_pred_val)\n",
    "sns.heatmap(cm_val3, annot=True, fmt='d', cmap='Purples', yticklabels=['1', '0'], xticklabels=['1', '0'])\n",
    "plt.xlabel('Actual')\n",
    "plt.ylabel('Predicted')\n",
    "plt.title('Confusion Matrix - Training Set')\n",
    "plt.text(0.25, 0.2, f'TRUE POSITIVE ', ha='left', va='top', color='green', fontweight='bold')\n",
    "plt.text(1.8, 0.2, f'FALSE POSITIVE ', ha='right', va='top', color='red', fontweight='bold')\n",
    "plt.text(0.3, 1.7, f'FALSE NEGATIVE ', ha='left', va='bottom', color='red', fontweight='bold')\n",
    "plt.text(1.8, 1.7, f'TRUE NEGATIVE ', ha='right', va='bottom', color='green', fontweight='bold')\n",
    "plt.show()\n"
   ]
  },
  {
   "cell_type": "markdown",
   "id": "e5564d06",
   "metadata": {
    "id": "e5564d06"
   },
   "source": [
    "This model looks a lot more realistic than the model before. Upsampling the data and then downsampling it, seems to be working."
   ]
  },
  {
   "cell_type": "markdown",
   "id": "096d5012",
   "metadata": {
    "id": "096d5012"
   },
   "source": [
    "## <a name = \"initexp20\"> 4.4 KNN Model (with K = 3) on Cleaned App_train_bureau Dataframe"
   ]
  },
  {
   "cell_type": "code",
   "execution_count": 42,
   "id": "08ea5326",
   "metadata": {
    "id": "08ea5326"
   },
   "outputs": [
    {
     "name": "stdout",
     "output_type": "stream",
     "text": [
      "Accuracy of Training Model: 0.9537619047619048\n",
      "Accuracy of Validation Model: 0.9176888888888889\n",
      "\n",
      "Training & Validation Confusion Metrices:\n",
      "Training   confusion matrix:\n",
      " [[95954   741]\n",
      " [ 4114  4191]]\n",
      "Validation confusion matrix:\n",
      " [[40622   882]\n",
      " [ 2822   674]]\n"
     ]
    },
    {
     "data": {
      "image/png": "[encoded data removed]",
      "text/plain": [
       "<Figure size 640x480 with 2 Axes>"
      ]
     },
     "metadata": {},
     "output_type": "display_data"
    },
    {
     "data": {
      "image/png": "[encoded data removed]",
      "text/plain": [
       "<Figure size 640x480 with 2 Axes>"
      ]
     },
     "metadata": {},
     "output_type": "display_data"
    }
   ],
   "source": [
    "from sklearn.model_selection import train_test_split\n",
    "from sklearn.metrics import confusion_matrix\n",
    "\n",
    "# Sub-sampling random 150,000 rows from the dataframe\n",
    "train_bureau_sample = app_train_bureau_clean.sample(n=150000, random_state=42)\n",
    "\n",
    "# Performing one-hot encoding on categorical columns\n",
    "categorical_columns_b = train_bureau_sample.select_dtypes(include=['object']).columns\n",
    "app_train_bureau_clean_encoded = pd.get_dummies(train_bureau_sample, columns=categorical_columns_b)\n",
    "\n",
    "# Separating features and target variable\n",
    "Xb = app_train_bureau_clean_encoded.drop('TARGET', axis=1)\n",
    "yb = app_train_bureau_clean_encoded['TARGET']\n",
    "\n",
    "# Splitting the data into training and validation sets\n",
    "Xb_train, Xb_val, yb_train, yb_val = train_test_split(Xb, yb, test_size=0.3, random_state=42)\n",
    "\n",
    "# Scaling\n",
    "scaler = StandardScaler()\n",
    "Xb_train_scaled = scaler.fit_transform(Xb_train)\n",
    "Xb_val_scaled = scaler.transform(Xb_val)\n",
    "\n",
    "# Creating KNN with 5 Neighbors\n",
    "knn = KNeighborsClassifier(n_neighbors=3)\n",
    "\n",
    "# Training the model\n",
    "knn.fit(Xb_train_scaled, yb_train)\n",
    "\n",
    "# Making predictions\n",
    "yb_pred_val = knn.predict(Xb_val_scaled)\n",
    "yb_pred_train = knn.predict(Xb_train_scaled)\n",
    "\n",
    "# Calculating accuracy and confusion matrix\n",
    "knn_accuracy_trainb = accuracy_score(yb_train, yb_pred_train)\n",
    "knn_accuracy_valb = accuracy_score(yb_val, yb_pred_val)\n",
    "print(\"Accuracy of Training Model:\", knn_accuracy_trainb)\n",
    "print(\"Accuracy of Validation Model:\", knn_accuracy_valb)\n",
    "print('')\n",
    "print('Training & Validation Confusion Metrices:')\n",
    "print('Training   confusion matrix:\\n', confusion_matrix(yb_train, yb_pred_train))\n",
    "print('Validation confusion matrix:\\n', confusion_matrix(yb_val, yb_pred_val))\n",
    "\n",
    "\n",
    "\n",
    "cm_train4 = confusion_matrix(yb_train, yb_pred_train)\n",
    "sns.heatmap(cm_train4, annot=True, fmt='d', cmap='Reds', yticklabels=['1', '0'], xticklabels=['1', '0'])\n",
    "plt.xlabel('Actual')\n",
    "plt.ylabel('Predicted')\n",
    "plt.title('Confusion Matrix - Training Set')\n",
    "plt.text(0.25, 0.2, f'TRUE POSITIVE ', ha='left', va='top', color='green', fontweight='bold')\n",
    "plt.text(1.8, 0.2, f'FALSE POSITIVE ', ha='right', va='top', color='red', fontweight='bold')\n",
    "plt.text(0.3, 1.7, f'FALSE NEGATIVE ', ha='left', va='bottom', color='red', fontweight='bold')\n",
    "plt.text(1.8, 1.7, f'TRUE NEGATIVE ', ha='right', va='bottom', color='green', fontweight='bold')\n",
    "plt.show()\n",
    "\n",
    "\n",
    "cm_val4 = confusion_matrix(y_val, y_pred_val)\n",
    "sns.heatmap(cm_val4, annot=True, fmt='d', cmap='Purples', yticklabels=['1', '0'], xticklabels=['1', '0'])\n",
    "plt.xlabel('Actual')\n",
    "plt.ylabel('Predicted')\n",
    "plt.title('Confusion Matrix - Validation Set')\n",
    "plt.text(0.25, 0.2, f'TRUE POSITIVE ', ha='left', va='top', color='green', fontweight='bold')\n",
    "plt.text(1.8, 0.2, f'FALSE POSITIVE ', ha='right', va='top', color='red', fontweight='bold')\n",
    "plt.text(0.3, 1.7, f'FALSE NEGATIVE ', ha='left', va='bottom', color='red', fontweight='bold')\n",
    "plt.text(1.8, 1.7, f'TRUE NEGATIVE ', ha='right', va='bottom', color='green', fontweight='bold')\n",
    "plt.show()"
   ]
  },
  {
   "cell_type": "code",
   "execution_count": 43,
   "id": "GQghi8IJRK4t",
   "metadata": {
    "id": "GQghi8IJRK4t"
   },
   "outputs": [
    {
     "data": {
      "image/png": "[encoded data removed]",
      "text/plain": [
       "<Figure size 640x480 with 2 Axes>"
      ]
     },
     "metadata": {},
     "output_type": "display_data"
    }
   ],
   "source": [
    "cm_train4 = confusion_matrix(yb_train, yb_pred_train)\n",
    "sns.heatmap(cm_train4, annot=True, fmt='d', cmap='Purples', yticklabels=['1', '0'], xticklabels=['1', '0'])\n",
    "plt.xlabel('Actual')\n",
    "plt.ylabel('Predicted')\n",
    "plt.title('Confusion Matrix - Training Set')\n",
    "plt.text(0.25, 0.2, f'TRUE POSITIVE ', ha='left', va='top', color='green', fontweight='bold')\n",
    "plt.text(1.8, 0.2, f'FALSE POSITIVE ', ha='right', va='top', color='red', fontweight='bold')\n",
    "plt.text(0.3, 1.7, f'FALSE NEGATIVE ', ha='left', va='bottom', color='red', fontweight='bold')\n",
    "plt.text(1.8, 1.7, f'TRUE NEGATIVE ', ha='right', va='bottom', color='green', fontweight='bold')\n",
    "plt.show()"
   ]
  },
  {
   "cell_type": "markdown",
   "id": "ea8b96e0",
   "metadata": {
    "id": "ea8b96e0"
   },
   "source": [
    "## <a name = \"initexp21\"> 4.5 KNN Model (with K = 5) on Cleaned App_train_bureau Dataframe"
   ]
  },
  {
   "cell_type": "code",
   "execution_count": 44,
   "id": "ac181193",
   "metadata": {
    "id": "ac181193"
   },
   "outputs": [
    {
     "name": "stdout",
     "output_type": "stream",
     "text": [
      "Accuracy of Training Model: 0.9349619047619048\n",
      "Accuracy of Validation Model: 0.9197555555555555\n",
      "\n",
      "Training & Validation Confusion Metrices:\n",
      "Training   confusion matrix:\n",
      " [[96256   439]\n",
      " [ 6390  1915]]\n",
      "Validation confusion matrix:\n",
      " [[41099   405]\n",
      " [ 3206   290]]\n"
     ]
    }
   ],
   "source": [
    "from sklearn.metrics import confusion_matrix\n",
    "\n",
    "# Creating KNN with 3 Neighbors\n",
    "knn = KNeighborsClassifier(n_neighbors=5)\n",
    "\n",
    "# Training the model\n",
    "knn.fit(Xb_train_scaled, yb_train)\n",
    "\n",
    "# Making predictions\n",
    "yb_pred_val = knn.predict(Xb_val_scaled)\n",
    "yb_pred_train = knn.predict(Xb_train_scaled)\n",
    "\n",
    "# Calculating accuracy and confusion matrix\n",
    "knn2_accuracy_trainb = accuracy_score(yb_train, yb_pred_train)\n",
    "knn2_accuracy_valb = accuracy_score(yb_val, yb_pred_val)\n",
    "print(\"Accuracy of Training Model:\", knn2_accuracy_trainb)\n",
    "print(\"Accuracy of Validation Model:\", knn2_accuracy_valb)\n",
    "print('')\n",
    "print('Training & Validation Confusion Metrices:')\n",
    "print('Training   confusion matrix:\\n', confusion_matrix(yb_train, yb_pred_train))\n",
    "print('Validation confusion matrix:\\n', confusion_matrix(yb_val, yb_pred_val))\n",
    "\n"
   ]
  },
  {
   "cell_type": "markdown",
   "id": "7035051a",
   "metadata": {
    "id": "7035051a"
   },
   "source": [
    "Like with the models on the app_train dataframed,both of these models were too accurate. Lets also try balancing the target variable in this dataframe."
   ]
  },
  {
   "cell_type": "markdown",
   "id": "b8748f5f",
   "metadata": {
    "id": "b8748f5f"
   },
   "source": [
    "## <a name = \"initexp22\"> 4.6 KNN Model (with K = 3) on  App_train Dataframe with Sampling"
   ]
  },
  {
   "cell_type": "code",
   "execution_count": 45,
   "id": "3089ca2e",
   "metadata": {
    "id": "3089ca2e"
   },
   "outputs": [
    {
     "name": "stdout",
     "output_type": "stream",
     "text": [
      "Accuracy of Training Model: 0.8927362019750722\n",
      "Accuracy of Validation Model: 0.6723555555555556\n",
      "\n",
      "Training & Validation Confusion Metrices:\n",
      "Training   confusion matrix:\n",
      " [[26990  5240]\n",
      " [  810 23363]]\n",
      "Validation confusion matrix:\n",
      " [[28706 12798]\n",
      " [ 1946  1550]]\n"
     ]
    }
   ],
   "source": [
    "from sklearn.model_selection import train_test_split\n",
    "from sklearn.metrics import confusion_matrix\n",
    "\n",
    "# Sub-sampling random 150,000 rows from the dataframe\n",
    "train_bureau_sample = app_train_bureau_clean.sample(n=150000, random_state=42)\n",
    "\n",
    "# Performing one-hot encoding on categorical columns\n",
    "categorical_columns_b = train_bureau_sample.select_dtypes(include=['object']).columns\n",
    "app_train_bureau_clean_encoded = pd.get_dummies(train_bureau_sample, columns=categorical_columns_b)\n",
    "\n",
    "# Separating features and target variable\n",
    "Xb = app_train_bureau_clean_encoded.drop('TARGET', axis=1)\n",
    "yb = app_train_bureau_clean_encoded['TARGET']\n",
    "\n",
    "# Splitting the data into training and validation sets\n",
    "Xb_train, Xb_val, yb_train, yb_val = train_test_split(Xb, yb, test_size=0.3, random_state=42)\n",
    "\n",
    "from imblearn.over_sampling import SMOTE\n",
    "from imblearn.under_sampling import RandomUnderSampler\n",
    "\n",
    "# Applying oversampling and undersampling\n",
    "oversampler = SMOTE(sampling_strategy=0.25)\n",
    "undersampler = RandomUnderSampler(sampling_strategy=0.75)\n",
    "\n",
    "Xb_train_oversampled, yb_train_oversampled = oversampler.fit_resample(Xb_train, yb_train)\n",
    "Xb_train_resampled, yb_train_resampled = undersampler.fit_resample(Xb_train_oversampled, yb_train_oversampled)\n",
    "\n",
    "# Creating KNN with 5 Neighbors\n",
    "knn = KNeighborsClassifier(n_neighbors=3)\n",
    "\n",
    "# Training the model\n",
    "knn.fit(Xb_train_resampled, yb_train_resampled)\n",
    "\n",
    "# Making predictions\n",
    "yb_pred_val = knn.predict(Xb_val)\n",
    "yb_pred_train = knn.predict(Xb_train_resampled)\n",
    "\n",
    "# Calculating accuracy and confusion matrix\n",
    "knn_accuracy_trainb = accuracy_score(yb_train_resampled, yb_pred_train)\n",
    "knn_accuracy_valb = accuracy_score(yb_val, yb_pred_val)\n",
    "print(\"Accuracy of Training Model:\", knn_accuracy_trainb)\n",
    "print(\"Accuracy of Validation Model:\", knn_accuracy_valb)\n",
    "print('')\n",
    "print('Training & Validation Confusion Metrices:')\n",
    "print('Training   confusion matrix:\\n', confusion_matrix(yb_train_resampled, yb_pred_train))\n",
    "print('Validation confusion matrix:\\n', confusion_matrix(yb_val, yb_pred_val))"
   ]
  },
  {
   "cell_type": "markdown",
   "id": "c9b71294",
   "metadata": {
    "id": "c9b71294"
   },
   "source": [
    "## <a name = \"initexp23\"> 4.7 KNN Results"
   ]
  },
  {
   "cell_type": "markdown",
   "id": "c678b540",
   "metadata": {
    "id": "c678b540"
   },
   "source": [
    "The KNN model with the best results is the KNN with 3 nearest neighbors using the app_train_bureau_clean dataframe. Its accuracy using the training set was 89% and 67% on the validation set. Both accuracies are the highest compared to the other models"
   ]
  },
  {
   "cell_type": "markdown",
   "id": "310a4a4d",
   "metadata": {
    "id": "310a4a4d"
   },
   "source": [
    "# <a name = \"initexp24\"> 5. Light Gradient Boosting Model"
   ]
  },
  {
   "cell_type": "markdown",
   "id": "a7c844b5",
   "metadata": {
    "id": "a7c844b5"
   },
   "source": [
    "## <a name = \"initexp25\"> 5.1 LGB Model on Cleaned App_train Dataframe"
   ]
  },
  {
   "cell_type": "code",
   "execution_count": 48,
   "id": "e56d48cd",
   "metadata": {},
   "outputs": [
    {
     "name": "stdout",
     "output_type": "stream",
     "text": [
      "Collecting lightgbm\n",
      "  Downloading lightgbm-3.3.5-py3-none-win_amd64.whl (1.0 MB)\n",
      "     ---------------------------------------- 1.0/1.0 MB 7.2 MB/s eta 0:00:00\n",
      "Requirement already satisfied: scikit-learn!=0.22.0 in c:\\users\\dell\\anaconda3\\envs\\python-gpu\\lib\\site-packages (from lightgbm) (1.2.2)\n",
      "Requirement already satisfied: wheel in c:\\users\\dell\\anaconda3\\envs\\python-gpu\\lib\\site-packages (from lightgbm) (0.35.1)\n",
      "Requirement already satisfied: scipy in c:\\users\\dell\\anaconda3\\envs\\python-gpu\\lib\\site-packages (from lightgbm) (1.10.0)\n",
      "Requirement already satisfied: numpy in c:\\users\\dell\\anaconda3\\envs\\python-gpu\\lib\\site-packages (from lightgbm) (1.23.5)\n",
      "Requirement already satisfied: joblib>=1.1.1 in c:\\users\\dell\\anaconda3\\envs\\python-gpu\\lib\\site-packages (from scikit-learn!=0.22.0->lightgbm) (1.1.1)\n",
      "Requirement already satisfied: threadpoolctl>=2.0.0 in c:\\users\\dell\\anaconda3\\envs\\python-gpu\\lib\\site-packages (from scikit-learn!=0.22.0->lightgbm) (2.2.0)\n",
      "Installing collected packages: lightgbm\n",
      "Successfully installed lightgbm-3.3.5\n"
     ]
    }
   ],
   "source": [
    "!pip install lightgbm"
   ]
  },
  {
   "cell_type": "code",
   "execution_count": 49,
   "id": "ad44dc1b",
   "metadata": {
    "id": "ad44dc1b"
   },
   "outputs": [
    {
     "name": "stdout",
     "output_type": "stream",
     "text": [
      "Accuracy of Training Model: 0.9226495210309681\n",
      "Accuracy of Validation Model: 0.9488249577244938\n",
      "\n",
      "Training & Validation Confusion Metrices:\n",
      "Training   confusion matrix:\n",
      " [[195958   1920]\n",
      " [ 14730   2646]]\n",
      "Validation confusion matrix:\n",
      " [[84081   723]\n",
      " [ 3998  3450]]\n"
     ]
    }
   ],
   "source": [
    "import lightgbm as lgb\n",
    "from sklearn.model_selection import train_test_split\n",
    "from sklearn.metrics import accuracy_score\n",
    "import re\n",
    "\n",
    "# Performing one-hot encoding on categorical columns\n",
    "categorical_columns = app_train_cleaned.select_dtypes(include=['object']).columns\n",
    "app_train_cleaned_encoded = pd.get_dummies(app_train_cleaned, columns=categorical_columns)\n",
    "\n",
    "# Separating features and target variable\n",
    "X = app_train_cleaned_encoded.drop('TARGET', axis=1)\n",
    "y = app_train_cleaned_encoded['TARGET']\n",
    "\n",
    "# Splitting the data into training and validation sets\n",
    "X_train, X_val, y_train, y_val = train_test_split(X, y, test_size=0.3, random_state=42)\n",
    "\n",
    "# Removing special characters from column names\n",
    "clean_names_train = [re.sub(r'\\W+', '_', feature) for feature in X_train.columns]\n",
    "clean_names_val = [re.sub(r'\\W+', '_', feature) for feature in X_val.columns]\n",
    "\n",
    "# Assigning the clean column names to the dataframes\n",
    "X_train.columns = clean_names_train\n",
    "X_val.columns = clean_names_val\n",
    "\n",
    "\n",
    "# Creating a LightGBM dataset\n",
    "train_data = lgb.Dataset(X_train, label=y_train)\n",
    "val_data = lgb.Dataset(X_val, label=y_val)\n",
    "\n",
    "# Seting the parameters for the LightGBM model\n",
    "params = {\n",
    "    'objective': 'binary',\n",
    "    'metric': 'binary_logloss',\n",
    "    'boosting_type': 'gbdt',\n",
    "    'num_leaves': 50,\n",
    "    'learning_rate': 0.5,\n",
    "    'feature_fraction': 0.9,\n",
    "    'bagging_fraction': 0.8,\n",
    "    'bagging_freq': 5,\n",
    "    'verbose': 0,\n",
    "    'force_row_wise': True\n",
    "}\n",
    "\n",
    "# Training the LightGBM model\n",
    "model_train1 = lgb.train(params, train_data, num_boost_round=100)\n",
    "model_val1 = lgb.train(params, val_data, num_boost_round=100)\n",
    "\n",
    "# Making predictions on the testing set\n",
    "y_pred_train = model_train1.predict(X_train)\n",
    "y_pred_val = model_val1.predict(X_val)\n",
    "\n",
    "# Converting probabilities to binary predictions\n",
    "y_pred_train_binary = [1 if p >= 0.5 else 0 for p in y_pred_train]\n",
    "y_pred_val_binary = [1 if p >= 0.5 else 0 for p in y_pred_val]\n",
    "\n",
    "# Calculating accuracy and confusion matrix\n",
    "accuracy_train = accuracy_score(y_train, y_pred_train_binary)\n",
    "accuracy_val = accuracy_score(y_val, y_pred_val_binary)\n",
    "print(\"Accuracy of Training Model:\", accuracy_train)\n",
    "print(\"Accuracy of Validation Model:\", accuracy_val)\n",
    "print('')\n",
    "print('Training & Validation Confusion Metrices:')\n",
    "print('Training   confusion matrix:\\n', confusion_matrix(y_train, y_pred_train_binary))\n",
    "print('Validation confusion matrix:\\n', confusion_matrix(y_val, y_pred_val_binary))"
   ]
  },
  {
   "cell_type": "markdown",
   "id": "8417709e",
   "metadata": {
    "id": "8417709e"
   },
   "source": [
    "Based on these results, this model would just guess the targt to be 0 for ever row. Therefore, it could be better."
   ]
  },
  {
   "cell_type": "markdown",
   "id": "687eddfd",
   "metadata": {
    "id": "687eddfd"
   },
   "source": [
    "## <a name = \"initexp26\"> 5.2 LGB Model on Cleaned App_train Dataframe with Sampling"
   ]
  },
  {
   "cell_type": "code",
   "execution_count": 50,
   "id": "1bd485e3",
   "metadata": {
    "id": "1bd485e3"
   },
   "outputs": [
    {
     "name": "stdout",
     "output_type": "stream",
     "text": [
      "Accuracy of Training Model: 0.9975655609172898\n",
      "Accuracy of Validation Model: 1.0\n",
      "\n",
      "Training & Validation Confusion Metrices:\n",
      "Training   confusion matrix:\n",
      " [[65930    28]\n",
      " [  253 49216]]\n",
      "Validation confusion matrix:\n",
      " [[28268     0]\n",
      " [    0 21201]]\n"
     ]
    }
   ],
   "source": [
    "import lightgbm as lgb\n",
    "from sklearn.model_selection import train_test_split\n",
    "from sklearn.metrics import accuracy_score\n",
    "import re\n",
    "\n",
    "# Performing one-hot encoding on categorical columns\n",
    "categorical_columns = app_train_cleaned.select_dtypes(include=['object']).columns\n",
    "app_train_cleaned_encoded = pd.get_dummies(app_train_cleaned, columns=categorical_columns)\n",
    "\n",
    "# Separating features and target variable\n",
    "X = app_train_cleaned_encoded.drop('TARGET', axis=1)\n",
    "y = app_train_cleaned_encoded['TARGET']\n",
    "\n",
    "# Splitting the data into training and validation sets\n",
    "X_train, X_val, y_train, y_val = train_test_split(X, y, test_size=0.3, random_state=42)\n",
    "\n",
    "# Removing special characters from column names\n",
    "clean_names_train = [re.sub(r'\\W+', '_', feature) for feature in X_train.columns]\n",
    "clean_names_val = [re.sub(r'\\W+', '_', feature) for feature in X_val.columns]\n",
    "\n",
    "# Assigning the clean column names to the dataframes\n",
    "X_train.columns = clean_names_train\n",
    "X_val.columns = clean_names_val\n",
    "\n",
    "# Applying oversampling and undersampling\n",
    "oversampler = SMOTE(sampling_strategy=0.25)\n",
    "undersampler = RandomUnderSampler(sampling_strategy=0.75)\n",
    "\n",
    "X_train_oversampled, y_train_oversampled = oversampler.fit_resample(X_train, y_train)\n",
    "X_train_resampled, y_train_resampled = undersampler.fit_resample(X_train_oversampled, y_train_oversampled)\n",
    "\n",
    "X_val_oversampled, y_val_oversampled = oversampler.fit_resample(X_val, y_val)\n",
    "X_val_resampled, y_val_resampled = undersampler.fit_resample(X_val_oversampled, y_val_oversampled)\n",
    "\n",
    "\n",
    "# Creating a LightGBM dataset\n",
    "train_data = lgb.Dataset(X_train_resampled, label=y_train_resampled)\n",
    "val_data = lgb.Dataset(X_val_resampled, label=y_val_resampled)\n",
    "\n",
    "# Seting the parameters for the LightGBM model\n",
    "params = {\n",
    "    'objective': 'binary',\n",
    "    'metric': 'binary_logloss',\n",
    "    'boosting_type': 'gbdt',\n",
    "    'num_leaves': 50,\n",
    "    'learning_rate': 0.5,\n",
    "    'feature_fraction': 0.9,\n",
    "    'bagging_fraction': 0.8,\n",
    "    'bagging_freq': 5,\n",
    "    'verbose': 0,\n",
    "    'force_row_wise': True\n",
    "}\n",
    "\n",
    "# Training the LightGBM model\n",
    "model_train = lgb.train(params, train_data, num_boost_round=500)\n",
    "model_val = lgb.train(params, val_data, num_boost_round=500)\n",
    "\n",
    "# Making predictions on the testing set\n",
    "y_pred_train = model_train.predict(X_train_resampled)\n",
    "y_pred_val = model_val.predict(X_val_resampled)\n",
    "\n",
    "# Converting probabilities to binary predictions\n",
    "y_pred_train_binary = [1 if p >= 0.5 else 0 for p in y_pred_train]\n",
    "y_pred_val_binary = [1 if p >= 0.5 else 0 for p in y_pred_val]\n",
    "\n",
    "# Calculating accuracy and confusion matrix\n",
    "accuracy_train = accuracy_score(y_train_resampled, y_pred_train_binary)\n",
    "accuracy_val = accuracy_score(y_val_resampled, y_pred_val_binary)\n",
    "print(\"Accuracy of Training Model:\", accuracy_train)\n",
    "print(\"Accuracy of Validation Model:\", accuracy_val)\n",
    "print('')\n",
    "print('Training & Validation Confusion Metrices:')\n",
    "print('Training   confusion matrix:\\n', confusion_matrix(y_train_resampled, y_pred_train_binary))\n",
    "print('Validation confusion matrix:\\n', confusion_matrix(y_val_resampled, y_pred_val_binary))"
   ]
  },
  {
   "cell_type": "markdown",
   "id": "d49abb4c",
   "metadata": {
    "id": "d49abb4c"
   },
   "source": [
    "## <a name = \"initexp27\"> 5.3 LGB Model on Cleaned App_train_bureau Dataframe"
   ]
  },
  {
   "cell_type": "code",
   "execution_count": 51,
   "id": "2eb05433",
   "metadata": {
    "id": "2eb05433"
   },
   "outputs": [
    {
     "name": "stdout",
     "output_type": "stream",
     "text": [
      "Accuracy of Training Model: 0.9504\n",
      "Accuracy of Validation Model: 0.9956666666666667\n",
      "\n",
      "Training & Validation Confusion Metrices:\n",
      "Training   confusion matrix:\n",
      " [[95612  1083]\n",
      " [ 4125  4180]]\n",
      "Validation confusion matrix:\n",
      " [[41478    26]\n",
      " [  169  3327]]\n"
     ]
    }
   ],
   "source": [
    "import lightgbm as lgb\n",
    "from sklearn.model_selection import train_test_split\n",
    "from sklearn.metrics import accuracy_score\n",
    "import re\n",
    "\n",
    "# Removing special characters from column names\n",
    "clean_names_trainb = [re.sub(r'\\W+', '_', feature) for feature in Xb_train.columns]\n",
    "clean_names_valb = [re.sub(r'\\W+', '_', feature) for feature in Xb_val.columns]\n",
    "\n",
    "# Assigning the clean column names to your dataset\n",
    "Xb_train.columns = clean_names_trainb\n",
    "Xb_val.columns = clean_names_valb\n",
    "\n",
    "\n",
    "# Creating a LightGBM dataset\n",
    "trainb_data = lgb.Dataset(Xb_train, label=yb_train)\n",
    "valb_data = lgb.Dataset(Xb_val, label=yb_val)\n",
    "\n",
    "# Seting the parameters for the LightGBM model\n",
    "params = {\n",
    "    'objective': 'binary',\n",
    "    'metric': 'binary_logloss',\n",
    "    'boosting_type': 'gbdt',\n",
    "    'num_leaves': 50,\n",
    "    'learning_rate': 0.5,\n",
    "    'feature_fraction': 0.9,\n",
    "    'bagging_fraction': 0.8,\n",
    "    'bagging_freq': 5,\n",
    "    'verbose': 0,\n",
    "    'force_row_wise': True\n",
    "}\n",
    "\n",
    "# Training the LightGBM model\n",
    "model_trainb = lgb.train(params, trainb_data, num_boost_round=100)\n",
    "model_valb = lgb.train(params, valb_data, num_boost_round=100)\n",
    "\n",
    "# Making predictions on the testing set\n",
    "yb_pred_train = model_trainb.predict(Xb_train)\n",
    "yb_pred_val = model_valb.predict(Xb_val)\n",
    "\n",
    "# Converting probabilities to binary predictions\n",
    "yb_pred_train_binary = [1 if p >= 0.5 else 0 for p in yb_pred_train]\n",
    "yb_pred_val_binary = [1 if p >= 0.5 else 0 for p in yb_pred_val]\n",
    "\n",
    "# Calculating accuracy and confusion matrix\n",
    "accuracy_trainb = accuracy_score(yb_train, yb_pred_train_binary)\n",
    "accuracy_valb = accuracy_score(yb_val, yb_pred_val_binary)\n",
    "print(\"Accuracy of Training Model:\", accuracy_trainb)\n",
    "print(\"Accuracy of Validation Model:\", accuracy_valb)\n",
    "print('')\n",
    "print('Training & Validation Confusion Metrices:')\n",
    "print('Training   confusion matrix:\\n', confusion_matrix(yb_train, yb_pred_train_binary))\n",
    "print('Validation confusion matrix:\\n', confusion_matrix(yb_val, yb_pred_val_binary))"
   ]
  },
  {
   "cell_type": "markdown",
   "id": "0ee42804",
   "metadata": {
    "id": "0ee42804"
   },
   "source": [
    "## <a name = \"initexp28\"> 5.4 LGB Model on Cleaned App_train_bureau Dataframe with Sampling"
   ]
  },
  {
   "cell_type": "code",
   "execution_count": 52,
   "id": "530211e4",
   "metadata": {
    "id": "530211e4"
   },
   "outputs": [
    {
     "name": "stdout",
     "output_type": "stream",
     "text": [
      "Accuracy of Training Model: 0.9651791571370317\n",
      "Accuracy of Validation Model: 0.998636926889715\n",
      "\n",
      "Training & Validation Confusion Metrices:\n",
      "Training   confusion matrix:\n",
      " [[31940   290]\n",
      " [ 1674 22499]]\n",
      "Validation confusion matrix:\n",
      " [[13828     6]\n",
      " [   27 10349]]\n"
     ]
    }
   ],
   "source": [
    "import lightgbm as lgb\n",
    "from sklearn.model_selection import train_test_split\n",
    "from sklearn.metrics import accuracy_score\n",
    "\n",
    "\n",
    "# Performing one-hot encoding on categorical columns\n",
    "categorical_columns_b = train_bureau_sample.select_dtypes(include=['object']).columns\n",
    "app_train_bureau_clean_encoded = pd.get_dummies(train_bureau_sample, columns=categorical_columns_b)\n",
    "\n",
    "# Separating features and target variable\n",
    "Xb = app_train_bureau_clean_encoded.drop('TARGET', axis=1)\n",
    "yb = app_train_bureau_clean_encoded['TARGET']\n",
    "\n",
    "# Splitting the data into training and validation sets\n",
    "Xb_train, Xb_val, yb_train, yb_val = train_test_split(Xb, yb, test_size=0.3, random_state=42)\n",
    "\n",
    "# Removing special characters from column names\n",
    "clean_names_trainb = [re.sub(r'\\W+', '_', feature) for feature in Xb_train.columns]\n",
    "clean_names_valb = [re.sub(r'\\W+', '_', feature) for feature in Xb_val.columns]\n",
    "\n",
    "# Assigning the clean column names to the dataframes\n",
    "Xb_train.columns = clean_names_trainb\n",
    "Xb_val.columns = clean_names_valb\n",
    "\n",
    "# Applying oversampling and undersampling\n",
    "oversampler = SMOTE(sampling_strategy=0.25)\n",
    "undersampler = RandomUnderSampler(sampling_strategy=0.75)\n",
    "\n",
    "Xb_train_oversampled, yb_train_oversampled = oversampler.fit_resample(Xb_train, yb_train)\n",
    "Xb_train_resampled, yb_train_resampled = undersampler.fit_resample(Xb_train_oversampled, yb_train_oversampled)\n",
    "\n",
    "Xb_val_oversampled, yb_val_oversampled = oversampler.fit_resample(Xb_val, yb_val)\n",
    "Xb_val_resampled, yb_val_resampled = undersampler.fit_resample(Xb_val_oversampled, yb_val_oversampled)\n",
    "\n",
    "\n",
    "# Creating a LightGBM dataset\n",
    "trainb_data = lgb.Dataset(Xb_train_resampled, label=yb_train_resampled)\n",
    "valb_data = lgb.Dataset(Xb_val_resampled, label=yb_val_resampled)\n",
    "\n",
    "# Seting the parameters for the LightGBM model\n",
    "params = {\n",
    "    'objective': 'binary',\n",
    "    'metric': 'binary_logloss',\n",
    "    'boosting_type': 'gbdt',\n",
    "    'num_leaves': 50,\n",
    "    'learning_rate': 0.5,\n",
    "    'feature_fraction': 0.9,\n",
    "    'bagging_fraction': 0.8,\n",
    "    'bagging_freq': 5,\n",
    "    'verbose': 0,\n",
    "    'force_row_wise': True\n",
    "}\n",
    "\n",
    "# Training the LightGBM model\n",
    "model_trainb1 = lgb.train(params, trainb_data, num_boost_round=100)\n",
    "model_valb1 = lgb.train(params, valb_data, num_boost_round=100)\n",
    "\n",
    "# Making predictions on the testing set\n",
    "yb_pred_train = model_trainb1.predict(Xb_train_resampled)\n",
    "yb_pred_val = model_valb1.predict(Xb_val_resampled)\n",
    "\n",
    "# Converting probabilities to binary predictions\n",
    "yb_pred_train_binary = [1 if p >= 0.5 else 0 for p in yb_pred_train]\n",
    "yb_pred_val_binary = [1 if p >= 0.5 else 0 for p in yb_pred_val]\n",
    "\n",
    "# Calculating accuracy and confusion matrix\n",
    "accuracy_trainb = accuracy_score(yb_train_resampled, yb_pred_train_binary)\n",
    "accuracy_valb = accuracy_score(yb_val_resampled, yb_pred_val_binary)\n",
    "print(\"Accuracy of Training Model:\", accuracy_trainb)\n",
    "print(\"Accuracy of Validation Model:\", accuracy_valb)\n",
    "print('')\n",
    "print('Training & Validation Confusion Metrices:')\n",
    "print('Training   confusion matrix:\\n', confusion_matrix(yb_train_resampled, yb_pred_train_binary))\n",
    "print('Validation confusion matrix:\\n', confusion_matrix(yb_val_resampled, yb_pred_val_binary))"
   ]
  },
  {
   "cell_type": "markdown",
   "id": "ba771dfa",
   "metadata": {
    "id": "ba771dfa"
   },
   "source": [
    "## <a name = \"initexp29\"> 5.5 LGB Results"
   ]
  },
  {
   "cell_type": "code",
   "execution_count": 53,
   "id": "35feb923",
   "metadata": {
    "id": "35feb923"
   },
   "outputs": [
    {
     "name": "stdout",
     "output_type": "stream",
     "text": [
      "       SK_ID_CURR    TARGET\n",
      "0          100001  0.004428\n",
      "1          100005  0.121603\n",
      "2          100013  0.000297\n",
      "3          100028  0.003466\n",
      "4          100038  0.119046\n",
      "...           ...       ...\n",
      "48739      456221  0.004546\n",
      "48740      456222  0.028829\n",
      "48741      456223  0.058085\n",
      "48742      456224  0.084603\n",
      "48743      456250  0.089862\n",
      "\n",
      "[48744 rows x 2 columns]\n"
     ]
    }
   ],
   "source": [
    "# predicting model on the app_test_cleaned dataframe\n",
    "\n",
    "categorical_columns_test = app_test_cleaned.select_dtypes(include=['object']).columns\n",
    "app_test_cleaned_encoded = pd.get_dummies(app_test_cleaned, columns=categorical_columns_test)\n",
    "\n",
    "results2 = pd.DataFrame({'SK_ID_CURR': app_test_cleaned_encoded.index, 'TARGET': model_train1.predict(app_test_cleaned_encoded,  predict_disable_shape_check=True)})\n",
    "print(results2) # Score = 0.65"
   ]
  },
  {
   "cell_type": "code",
   "execution_count": 54,
   "id": "TBIkTR0ZTh12",
   "metadata": {
    "id": "TBIkTR0ZTh12"
   },
   "outputs": [],
   "source": [
    "results2.to_csv('out_lgb_bur.csv', index=False)"
   ]
  },
  {
   "cell_type": "code",
   "execution_count": 55,
   "id": "J101gJVaTiOz",
   "metadata": {
    "id": "J101gJVaTiOz"
   },
   "outputs": [
    {
     "name": "stdout",
     "output_type": "stream",
     "text": [
      "       SK_ID_CURR    TARGET\n",
      "0          100001  0.000511\n",
      "1          100005  0.233521\n",
      "2          100013  0.005065\n",
      "3          100028  0.005958\n",
      "4          100038  0.140732\n",
      "...           ...       ...\n",
      "48739      456221  0.004313\n",
      "48740      456222  0.199419\n",
      "48741      456223  0.034034\n",
      "48742      456224  0.002638\n",
      "48743      456250  0.272782\n",
      "\n",
      "[48744 rows x 2 columns]\n"
     ]
    }
   ],
   "source": [
    "# predicting model on the app_test_cleaned dataframe\n",
    "\n",
    "categorical_columns_test = app_test_cleaned.select_dtypes(include=['object']).columns\n",
    "app_test_cleaned_encoded = pd.get_dummies(app_test_cleaned, columns=categorical_columns_test)\n",
    "\n",
    "results = pd.DataFrame({'SK_ID_CURR': app_test_cleaned_encoded.index, 'TARGET': model_train.predict(app_test_cleaned_encoded,  predict_disable_shape_check=True)})\n",
    "print(results) # Score = 0.65"
   ]
  },
  {
   "cell_type": "code",
   "execution_count": 56,
   "id": "Q5WqfQ9vxqBL",
   "metadata": {
    "id": "Q5WqfQ9vxqBL"
   },
   "outputs": [],
   "source": [
    "results.to_csv('out_lgb.csv', index=False)"
   ]
  },
  {
   "cell_type": "markdown",
   "id": "UWw5tzYbzopW",
   "metadata": {
    "id": "UWw5tzYbzopW"
   },
   "source": [
    "![Kaggle score- LGB.png](LGB.jpeg)"
   ]
  },
  {
   "cell_type": "markdown",
   "id": "b5f3713d",
   "metadata": {
    "id": "b5f3713d"
   },
   "source": [
    "The LGB model with the best results is the LGB with 50 leaves and learning rate of 0.5 using the app_train_cleaned dataframe with sampling. Its accuracy using the training set was 99.8% and 100% on the validation set.\n",
    "The kaggle score for this best model is 0.65."
   ]
  },
  {
   "cell_type": "markdown",
   "id": "c24bc622",
   "metadata": {
    "id": "c24bc622"
   },
   "source": [
    "# <a name = \"initexp30\"> 6. Gradient Boosting Model"
   ]
  },
  {
   "cell_type": "markdown",
   "id": "933de06f",
   "metadata": {
    "id": "933de06f"
   },
   "source": [
    "## <a name = \"initexp31\"> 6.1 Gradient Boosting Model on Cleaned App_train Dataframe"
   ]
  },
  {
   "cell_type": "code",
   "execution_count": 57,
   "id": "96273091",
   "metadata": {
    "id": "96273091"
   },
   "outputs": [
    {
     "name": "stdout",
     "output_type": "stream",
     "text": [
      "Accuracy of Training Model: 0.8686875687664065\n",
      "Accuracy of Validation Model: 0.8809961794254988\n",
      "\n",
      "Training & Validation Confusion Metrices:\n",
      "Training   confusion matrix:\n",
      " [[63702  2256]\n",
      " [12901 36568]]\n",
      "Validation confusion matrix:\n",
      " [[27380   888]\n",
      " [ 4999 16202]]\n"
     ]
    }
   ],
   "source": [
    "from sklearn.ensemble import GradientBoostingClassifier\n",
    "from sklearn.metrics import accuracy_score\n",
    "\n",
    "missing_columns = ['NAME_INCOME_TYPE_Maternity_leave', 'NAME_FAMILY_STATUS_Unknown']\n",
    "\n",
    "X_train_resampled2 = X_train_resampled.drop(missing_columns, axis=1)\n",
    "X_val_resampled2 = X_val_resampled.drop(missing_columns, axis=1)\n",
    "\n",
    "# Training a model on the training and validation set\n",
    "GB_train_model = GradientBoostingClassifier(n_estimators=200, learning_rate=0.5, max_depth=3, random_state=42)\n",
    "GB_train_model.fit(X_train_resampled2, y_train_resampled)\n",
    "\n",
    "GB_val_model = GradientBoostingClassifier(n_estimators=200, learning_rate=0.5, max_depth=3, random_state=42)\n",
    "GB_val_model.fit(X_val_resampled2, y_val_resampled)\n",
    "\n",
    "# Making predictions\n",
    "GB_train_pred = GB_train_model.predict(X_train_resampled2)\n",
    "GB_val_pred = GB_val_model.predict(X_val_resampled2)\n",
    "\n",
    "# Calculating accuracy and confusion matrix\n",
    "train_accuracy = accuracy_score(y_train_resampled, GB_train_pred)\n",
    "val_accuracy = accuracy_score(y_val_resampled, GB_val_pred)\n",
    "print(\"Accuracy of Training Model:\", train_accuracy)\n",
    "print(\"Accuracy of Validation Model:\", val_accuracy)\n",
    "print('')\n",
    "print('Training & Validation Confusion Metrices:')\n",
    "print('Training   confusion matrix:\\n', confusion_matrix(y_train_resampled, GB_train_pred))\n",
    "print('Validation confusion matrix:\\n', confusion_matrix(y_val_resampled, GB_val_pred))"
   ]
  },
  {
   "cell_type": "markdown",
   "id": "705f46a4",
   "metadata": {
    "id": "705f46a4"
   },
   "source": [
    "## <a name = \"initexp32\"> 6.2 Gradient Boosting Results"
   ]
  },
  {
   "cell_type": "code",
   "execution_count": 58,
   "id": "5f0PE-4pfZKE",
   "metadata": {
    "id": "5f0PE-4pfZKE"
   },
   "outputs": [],
   "source": [
    "app_test_cleaned_encoded2 = pd.get_dummies(app_test_cleaned, columns=categorical_columns_test)\n",
    "app_test_cleaned_encoded_aligned = app_test_cleaned_encoded2.reindex(columns=X_train_resampled2.columns, fill_value=0)\n",
    "\n",
    "results_gb = pd.DataFrame({'SK_ID_CURR': app_test_cleaned_encoded2.index, 'TARGET': GB_train_model.predict(app_test_cleaned_encoded_aligned)})\n"
   ]
  },
  {
   "cell_type": "code",
   "execution_count": 59,
   "id": "jv80xV4mfmdu",
   "metadata": {
    "id": "jv80xV4mfmdu"
   },
   "outputs": [],
   "source": [
    "results_gb.to_csv('out_gb.csv', index=False)"
   ]
  },
  {
   "cell_type": "markdown",
   "id": "2032e828",
   "metadata": {
    "id": "2032e828"
   },
   "source": [
    "### **The kaggle score for this Gradient Boosting model is 0.66**"
   ]
  },
  {
   "cell_type": "code",
   "execution_count": 60,
   "id": "ZklI0HPD3ILB",
   "metadata": {
    "id": "ZklI0HPD3ILB"
   },
   "outputs": [
    {
     "name": "stdout",
     "output_type": "stream",
     "text": [
      "Accuracy of Validation Model: 1.0\n",
      "\n",
      "Validation Confusion Matrix:\n",
      "[[9930    0]\n",
      " [   0 7448]]\n",
      "       SK_ID_CURR    TARGET\n",
      "0          100001  0.010063\n",
      "1          100005  0.090364\n",
      "2          100013  0.000038\n",
      "3          100028  0.019686\n",
      "4          100038  0.610564\n",
      "...           ...       ...\n",
      "48739      456221  0.001953\n",
      "48740      456222  0.007038\n",
      "48741      456223  0.149653\n",
      "48742      456224  0.000700\n",
      "48743      456250  0.115277\n",
      "\n",
      "[48744 rows x 2 columns]\n"
     ]
    }
   ],
   "source": [
    "import lightgbm as lgb\n",
    "from sklearn.model_selection import train_test_split\n",
    "from sklearn.metrics import accuracy_score\n",
    "import re\n",
    "from imblearn.over_sampling import SMOTE\n",
    "from imblearn.under_sampling import RandomUnderSampler\n",
    "\n",
    "# Performing one-hot encoding on categorical columns\n",
    "categorical_columns = app_train_cleaned.select_dtypes(include=['object']).columns\n",
    "app_train_cleaned_encoded = pd.get_dummies(app_train_cleaned, columns=categorical_columns)\n",
    "\n",
    "# Separating features and target variable\n",
    "X = app_train_cleaned_encoded.drop('TARGET', axis=1)\n",
    "y = app_train_cleaned_encoded['TARGET']\n",
    "\n",
    "# Splitting the data into training and validation sets\n",
    "X_train, X_val, y_train, y_val = train_test_split(X, y, test_size=0.3, random_state=42)\n",
    "\n",
    "# Removing special characters from column names\n",
    "clean_names_train = [re.sub(r'\\W+', '_', feature) for feature in X_train.columns]\n",
    "clean_names_val = [re.sub(r'\\W+', '_', feature) for feature in X_val.columns]\n",
    "\n",
    "# Assigning the clean column names to the dataframes\n",
    "X_train.columns = clean_names_train\n",
    "X_val.columns = clean_names_val\n",
    "\n",
    "# Applying oversampling to the training set\n",
    "oversampler = SMOTE(sampling_strategy=0.25)\n",
    "X_train_oversampled, y_train_oversampled = oversampler.fit_resample(X_train, y_train)\n",
    "\n",
    "# Applying undersampling to the validation set\n",
    "undersampler = RandomUnderSampler(sampling_strategy=0.75)\n",
    "X_val_undersampled, y_val_undersampled = undersampler.fit_resample(X_val, y_val)\n",
    "\n",
    "# Creating a LightGBM dataset\n",
    "train_data = lgb.Dataset(X_train_oversampled, label=y_train_oversampled)\n",
    "val_data = lgb.Dataset(X_val_undersampled, label=y_val_undersampled)\n",
    "\n",
    "# Seting the parameters for the LightGBM model\n",
    "params = {\n",
    "    'objective': 'binary',\n",
    "    'metric': 'binary_logloss',\n",
    "    'boosting_type': 'gbdt',\n",
    "    'num_leaves': 50,\n",
    "    'learning_rate': 0.5,\n",
    "    'feature_fraction': 0.9,\n",
    "    'bagging_fraction': 0.8,\n",
    "    'bagging_freq': 5,\n",
    "    'verbose': 0,\n",
    "    'force_row_wise': True\n",
    "}\n",
    "\n",
    "# Training the LightGBM model\n",
    "model_train = lgb.train(params, train_data, num_boost_round=500)\n",
    "model_val = lgb.train(params, val_data, num_boost_round=500)\n",
    "\n",
    "# Making predictions on the validation set\n",
    "y_pred_val = model_val.predict(X_val_undersampled)\n",
    "y_pred_val_binary = [1 if p >= 0.5 else 0 for p in y_pred_val]\n",
    "\n",
    "# Calculating accuracy and confusion matrix\n",
    "accuracy_val = accuracy_score(y_val_undersampled, y_pred_val_binary)\n",
    "print(\"Accuracy of Validation Model:\", accuracy_val)\n",
    "print('')\n",
    "print('Validation Confusion Matrix:')\n",
    "print(confusion_matrix(y_val_undersampled, y_pred_val_binary))\n",
    "\n",
    "# predicting model on the app_test_cleaned dataframe\n",
    "categorical_columns_test = app_test_cleaned.select_dtypes(include=['object']).columns\n",
    "app_test_cleaned_encoded = pd.get_dummies(app_test_cleaned, columns=categorical_columns_test)\n",
    "\n",
    "results = pd.DataFrame({'SK_ID_CURR': app_test_cleaned_encoded.index, 'TARGET': model_train.predict(app_test_cleaned_encoded,  predict_disable_shape_check=True)})\n",
    "print(results)\n",
    "\n"
   ]
  },
  {
   "cell_type": "code",
   "execution_count": 61,
   "id": "-tddYW0_-qfC",
   "metadata": {
    "id": "-tddYW0_-qfC"
   },
   "outputs": [],
   "source": [
    "results.to_csv('out_lgb2.csv', index=False)"
   ]
  },
  {
   "cell_type": "markdown",
   "id": "698b2d56",
   "metadata": {
    "id": "698b2d56"
   },
   "source": [
    "# <a name = \"initexp33\"> 7. Comparison of LGB & GB results"
   ]
  },
  {
   "cell_type": "code",
   "execution_count": 62,
   "id": "2863013e",
   "metadata": {
    "id": "2863013e"
   },
   "outputs": [],
   "source": [
    "results.to_csv(\"Submission.csv\", index=False)"
   ]
  },
  {
   "cell_type": "markdown",
   "id": "d4902a7d",
   "metadata": {
    "id": "d4902a7d"
   },
   "source": [
    "In the end the best model was the light gradient boosting one using the upsampled then downsampled data. Its accuracy using the training set was 99.8% and 100% on the validation set.\n",
    "The kaggle score for this best model is 0.65."
   ]
  },
  {
   "cell_type": "markdown",
   "id": "9UiLxpmtBYce",
   "metadata": {
    "id": "9UiLxpmtBYce"
   },
   "source": [
    "# <a name = \"initexp34\">8. Naive Bayes"
   ]
  },
  {
   "cell_type": "markdown",
   "id": "aa91b279",
   "metadata": {
    "id": "aa91b279"
   },
   "source": [
    "\n",
    "\n",
    "Naive Bayes Model for this kind of problem gives us speedy training of datasets. Naive Bayes models are easy to interpret and understand. The probabilistic nature of the model allows for straightforward interpretation of feature importance and contribution to the target variable. However, Naive Bayes assumes that all features are independent of each other given the target variable. This assumption may not hold true in real-world scenarios, which can limit the model's predictive accuracy.\n",
    "\n",
    "This cell performs grid search with cross-validation to systematically search for the best hyperparameters for the Naive Bayes model. It explores different combinations of hyperparameters defined in the 'param_grid' and evaluates their performance using the accuracy metric. The outcome is the best set of hyperparameters that optimize the model's accuracy on the training data. I wanted to point out what does these lines of codes do: 'cv=5': The number of cross-validation folds to be used during the grid search. In this case, 5-fold cross-validation is performed. 'scoring='accuracy'': The evaluation metric used to assess the performance of different parameter combinations. Here, the accuracy score is used.\n",
    "\n",
    "We received a train accuracy of 58% and test accuracy 57%. The run time of this model was 7.87 seconds"
   ]
  },
  {
   "cell_type": "code",
   "execution_count": 63,
   "id": "NuCvAm9t604x",
   "metadata": {
    "id": "NuCvAm9t604x"
   },
   "outputs": [],
   "source": [
    "def NB_model(app_train_cleaned):\n",
    "    categorical_columns = app_train_cleaned.select_dtypes(include=['object']).columns\n",
    "\n",
    "    app_train_cleaned_encoded = pd.get_dummies(app_train_cleaned, columns=categorical_columns)\n",
    "\n",
    "    app_train_cleaned_encoded_copy = app_train_cleaned_encoded.copy()\n",
    "    missing_columns = ['NAME_INCOME_TYPE_Maternity leave', 'NAME_FAMILY_STATUS_Unknown']\n",
    "\n",
    "    # Separating features and target variable\n",
    "    X = app_train_cleaned_encoded_copy.drop('TARGET', axis=1)\n",
    "    y = app_train_cleaned_encoded_copy['TARGET']\n",
    "    undersampler = RandomUnderSampler(sampling_strategy=0.75)\n",
    "    X, y = undersampler.fit_resample(X, y)\n",
    "\n",
    "    # Splitting the data into training and validation sets\n",
    "    X_train, X_val, y_train, y_val = train_test_split(X, y, test_size=0.3, random_state=42)\n",
    "\n",
    "    X_train = X_train.drop(missing_columns, axis=1)\n",
    "    X_val = X_val.drop(missing_columns, axis=1)\n",
    "    param_grid = {\n",
    "    'var_smoothing': np.logspace(-9, 0, num=10)\n",
    "}\n",
    "    naive_bayes = GaussianNB()\n",
    "    grid_search = GridSearchCV(naive_bayes, param_grid, cv=5, scoring='accuracy')\n",
    "    grid_search.fit(X_train, y_train)\n",
    "    best_params = grid_search.best_params_\n",
    "    print('Best Params: ', best_params)\n",
    "    model = grid_search.best_estimator_\n",
    "\n",
    "    y_pred = model.predict(X_val)\n",
    "    train_y_pred = model.predict(X_train)\n",
    "\n",
    "    print('Train Accuracy:', accuracy_score(y_train, train_y_pred))\n",
    "    print('Train ROC AUC score:', roc_auc_score(y_train, train_y_pred))\n",
    "\n",
    "    print('Test Accuracy:', accuracy_score(y_val, y_pred))\n",
    "    print('Test ROC AUC score:', roc_auc_score(y_val, y_pred))\n",
    "    print(' Test Confusion Matrix:\\n')\n",
    "    cm = confusion_matrix(y_val, y_pred)\n",
    "    disp = ConfusionMatrixDisplay(confusion_matrix=cm,\n",
    "                               display_labels=model.classes_)\n",
    "    print('Training   confusion matrix:\\n', confusion_matrix(y_val, y_pred))\n",
    "    disp.plot()\n",
    "    plt.show()\n",
    "\n",
    "    print('Test Classification Report:\\n', classification_report(y_val, y_pred))\n",
    "\n",
    "    categorical_columns_test = app_test_cleaned.select_dtypes(include=['object']).columns\n",
    "\n",
    "    app_test_cleaned_encoded = pd.get_dummies(app_test_cleaned, columns=categorical_columns_test)\n",
    "\n",
    "    results_nb = pd.DataFrame({'SK_ID_CURR': app_test_cleaned_encoded.index, 'TARGET': model.predict(app_test_cleaned_encoded)})\n",
    "\n",
    "\n",
    "\n",
    "    return model, results_nb"
   ]
  },
  {
   "cell_type": "code",
   "execution_count": 64,
   "id": "1fb971b6",
   "metadata": {
    "id": "1fb971b6"
   },
   "outputs": [
    {
     "name": "stdout",
     "output_type": "stream",
     "text": [
      "Best Params:  {'var_smoothing': 1e-09}\n",
      "Train Accuracy: 0.5808607719817487\n",
      "Train ROC AUC score: 0.5843203373623991\n",
      "Test Accuracy: 0.5776025781205041\n",
      "Test ROC AUC score: 0.582134556197098\n",
      " Test Confusion Matrix:\n",
      "\n",
      "Training   confusion matrix:\n",
      " [[5507 4475]\n",
      " [2865 4530]]\n"
     ]
    },
    {
     "data": {
      "image/png": "[encoded data removed]",
      "text/plain": [
       "<Figure size 640x480 with 2 Axes>"
      ]
     },
     "metadata": {},
     "output_type": "display_data"
    },
    {
     "name": "stdout",
     "output_type": "stream",
     "text": [
      "Test Classification Report:\n",
      "               precision    recall  f1-score   support\n",
      "\n",
      "           0       0.66      0.55      0.60      9982\n",
      "           1       0.50      0.61      0.55      7395\n",
      "\n",
      "    accuracy                           0.58     17377\n",
      "   macro avg       0.58      0.58      0.58     17377\n",
      "weighted avg       0.59      0.58      0.58     17377\n",
      "\n",
      "Logistic Regression Runtime:  8.132031679153442 seconds\n"
     ]
    }
   ],
   "source": [
    "nb_start = time.time()\n",
    "model_nb1, results_nb = NB_model(app_train_cleaned)\n",
    "nb_end = time.time()\n",
    "print('Logistic Regression Runtime: ', nb_end - nb_start, 'seconds')"
   ]
  },
  {
   "cell_type": "code",
   "execution_count": 65,
   "id": "b7e71484",
   "metadata": {
    "id": "b7e71484"
   },
   "outputs": [],
   "source": [
    "results_nb.to_csv(\"NaiveBayesSubmission.csv\", index=False)"
   ]
  },
  {
   "cell_type": "markdown",
   "id": "ff842d2f",
   "metadata": {
    "id": "ff842d2f"
   },
   "source": [
    "### Kaggle Score for Naive Bayes (0.57)\n",
    "![Naive Bayes](Naiva_Bayes_IMG.png)"
   ]
  },
  {
   "cell_type": "markdown",
   "id": "32HhZ7c8K6dn",
   "metadata": {
    "id": "32HhZ7c8K6dn"
   },
   "source": [
    "# <a name = \"initexp35\"> 9.Logistic Regression"
   ]
  },
  {
   "cell_type": "markdown",
   "id": "108af9cd",
   "metadata": {
    "id": "108af9cd"
   },
   "source": [
    "Logistic Regression is an appropriate base model as it's commonly used for binary classification tasks. It provides a probability estimate of default risk based on input features, helping identify potential defaulters. In short, it helps predict the likelihood of a borrower defaulting on their home credit, aiding in risk assessment and decision-making processes. \\n\n",
    "\n",
    "We under sampled the train data since it was heavily imbalanced and received a train accuracy of 60% and test accuracy 60% as well. The run time of this model was 2.44 seconds"
   ]
  },
  {
   "cell_type": "code",
   "execution_count": 66,
   "id": "w6uy7K7KxSCB",
   "metadata": {
    "id": "w6uy7K7KxSCB"
   },
   "outputs": [],
   "source": [
    "def logistic_regression_model(app_train_cleaned):\n",
    "    categorical_columns = app_train_cleaned.select_dtypes(include=['object']).columns\n",
    "\n",
    "    app_train_cleaned_encoded = pd.get_dummies(app_train_cleaned, columns=categorical_columns)\n",
    "\n",
    "    app_train_cleaned_encoded_copy = app_train_cleaned_encoded.copy()\n",
    "    missing_columns = ['NAME_INCOME_TYPE_Maternity leave', 'NAME_FAMILY_STATUS_Unknown']\n",
    "\n",
    "    # Separating features and target variable\n",
    "    X = app_train_cleaned_encoded_copy.drop('TARGET', axis=1)\n",
    "    y = app_train_cleaned_encoded_copy['TARGET']\n",
    "    undersampler = RandomUnderSampler(sampling_strategy=0.75)\n",
    "    X, y = undersampler.fit_resample(X, y)\n",
    "\n",
    "    # Splitting the data into training and validation sets\n",
    "    X_train, X_val, y_train, y_val = train_test_split(X, y, test_size=0.3, random_state=42)\n",
    "\n",
    "    X_train = X_train.drop(missing_columns, axis=1)\n",
    "    X_val = X_val.drop(missing_columns, axis=1)\n",
    "\n",
    "    X_cols = list(X_train.columns)\n",
    "    model = LogisticRegression(max_iter=1000)  # Increase max_iter if convergence warning appears\n",
    "    model.fit(X_train, y_train)\n",
    "\n",
    "    y_pred = model.predict(X_val)\n",
    "    train_y_pred = model.predict(X_train)\n",
    "\n",
    "    print('Train Accuracy:', accuracy_score(y_train, train_y_pred))\n",
    "    print('Train ROC AUC score:', roc_auc_score(y_train, train_y_pred))\n",
    "\n",
    "    print('Test Accuracy:', accuracy_score(y_val, y_pred))\n",
    "    print('Test ROC AUC score:', roc_auc_score(y_val, y_pred))\n",
    "    print(' Test Confusion Matrix:\\n')\n",
    "    cm = confusion_matrix(y_val, y_pred)\n",
    "    disp = ConfusionMatrixDisplay(confusion_matrix=cm,\n",
    "                               display_labels=model.classes_)\n",
    "    print('Training   confusion matrix:\\n', confusion_matrix(y_val, y_pred))\n",
    "    disp.plot()\n",
    "    plt.show()\n",
    "\n",
    "    print('Test Classification Report:\\n', classification_report(y_val, y_pred))\n",
    "\n",
    "\n",
    "    importances = pd.DataFrame(data={\n",
    "        'Attribute': X_cols,\n",
    "        'Importance': model.coef_[0]\n",
    "    })\n",
    "    importances = importances.sort_values(by='Importance', ascending=False)\n",
    "\n",
    "    print('Feature Importances:')\n",
    "    print(importances)\n",
    "    categorical_columns_test = app_test_cleaned.select_dtypes(include=['object']).columns\n",
    "\n",
    "    app_test_cleaned_encoded = pd.get_dummies(app_test_cleaned, columns=categorical_columns_test)\n",
    "\n",
    "    results_lg = pd.DataFrame({'SK_ID_CURR': app_test_cleaned_encoded.index, 'TARGET': model.predict(app_test_cleaned_encoded)})\n",
    "\n",
    "\n",
    "\n",
    "    return model, results_lg"
   ]
  },
  {
   "cell_type": "code",
   "execution_count": 67,
   "id": "KYnfdm347Y3l",
   "metadata": {
    "id": "KYnfdm347Y3l",
    "scrolled": false
   },
   "outputs": [
    {
     "name": "stdout",
     "output_type": "stream",
     "text": [
      "Train Accuracy: 0.6006659267480577\n",
      "Train ROC AUC score: 0.5593990454397482\n",
      "Test Accuracy: 0.6090234217644013\n",
      "Test ROC AUC score: 0.5654482598765675\n",
      " Test Confusion Matrix:\n",
      "\n",
      "Training   confusion matrix:\n",
      " [[8566 1416]\n",
      " [5378 2017]]\n"
     ]
    },
    {
     "data": {
      "image/png": "[encoded data removed]",
      "text/plain": [
       "<Figure size 640x480 with 2 Axes>"
      ]
     },
     "metadata": {},
     "output_type": "display_data"
    },
    {
     "name": "stdout",
     "output_type": "stream",
     "text": [
      "Test Classification Report:\n",
      "               precision    recall  f1-score   support\n",
      "\n",
      "           0       0.61      0.86      0.72      9982\n",
      "           1       0.59      0.27      0.37      7395\n",
      "\n",
      "    accuracy                           0.61     17377\n",
      "   macro avg       0.60      0.57      0.54     17377\n",
      "weighted avg       0.60      0.61      0.57     17377\n",
      "\n",
      "Feature Importances:\n",
      "                               Attribute    Importance\n",
      "32                DAYS_LAST_PHONE_CHANGE  1.944510e-04\n",
      "9                        DAYS_ID_PUBLISH  2.537011e-05\n",
      "3                            AMT_ANNUITY  2.050194e-05\n",
      "8                      DAYS_REGISTRATION  2.039744e-05\n",
      "2                             AMT_CREDIT  3.350848e-06\n",
      "..                                   ...           ...\n",
      "26                          EXT_SOURCE_2 -1.912928e-07\n",
      "82  NAME_EDUCATION_TYPE_Higher education -1.946240e-07\n",
      "1                       AMT_INCOME_TOTAL -5.147260e-07\n",
      "7                          DAYS_EMPLOYED -9.390916e-07\n",
      "4                        AMT_GOODS_PRICE -4.436339e-06\n",
      "\n",
      "[162 rows x 2 columns]\n",
      "Logistic Regression Runtime:  2.1242692470550537 seconds\n"
     ]
    }
   ],
   "source": [
    "lg_start = time.time()\n",
    "model_lr1, results_lg= logistic_regression_model(app_train_cleaned)\n",
    "lg_end = time.time()\n",
    "print('Logistic Regression Runtime: ', lg_end - lg_start, 'seconds')"
   ]
  },
  {
   "cell_type": "code",
   "execution_count": 68,
   "id": "7a5bcc24",
   "metadata": {
    "id": "7a5bcc24"
   },
   "outputs": [],
   "source": [
    "results_lg.to_csv(\"LogisticRegressionSubmission.csv\", index=False)"
   ]
  },
  {
   "cell_type": "markdown",
   "id": "e53118ef",
   "metadata": {
    "id": "e53118ef"
   },
   "source": [
    "### Kaggle Score for Logistic Regression (0.57819)\n",
    "![Logistic Regression](logistic.jpeg)"
   ]
  },
  {
   "cell_type": "code",
   "execution_count": null,
   "id": "b9cc5341",
   "metadata": {
    "id": "b9cc5341"
   },
   "outputs": [],
   "source": []
  },
  {
   "cell_type": "markdown",
   "id": "tuURoZJfw0kN",
   "metadata": {
    "id": "tuURoZJfw0kN"
   },
   "source": [
    "# <a name = \"initexp36\"> 10.Random Forest"
   ]
  },
  {
   "cell_type": "markdown",
   "id": "b31da116",
   "metadata": {
    "id": "b31da116"
   },
   "source": [
    "Random Forest is appropriate for the home credit default risk project as it handles complex relationships and high-dimensional data. It provides feature importance, variable interactions, and model interpretability. With an ensemble of decision trees, it predicts default risk by combining multiple perspectives, reducing overfitting, and offering robustness against noise and outliers.\n",
    "\n",
    "We under sampled the train data since it was heavily imbalanced and received a train accuracy of 100% and test accuracy 69%. The run time of this model was 135.55 seconds"
   ]
  },
  {
   "cell_type": "code",
   "execution_count": 69,
   "id": "BAUJJ0yDwhup",
   "metadata": {
    "id": "BAUJJ0yDwhup"
   },
   "outputs": [],
   "source": [
    "def random_forest_model(app_train_cleaned):\n",
    "    categorical_columns = app_train_cleaned.select_dtypes(include=['object']).columns\n",
    "\n",
    "    app_train_cleaned_encoded = pd.get_dummies(app_train_cleaned, columns=categorical_columns)\n",
    "\n",
    "    app_train_cleaned_encoded_copy = app_train_cleaned_encoded.copy()\n",
    "    missing_columns = ['NAME_INCOME_TYPE_Maternity leave', 'NAME_FAMILY_STATUS_Unknown']\n",
    "\n",
    "    # Separating features and target variable\n",
    "    X = app_train_cleaned_encoded_copy.drop('TARGET', axis=1)\n",
    "    y = app_train_cleaned_encoded_copy['TARGET']\n",
    "    undersampler = RandomUnderSampler(sampling_strategy=0.75)\n",
    "    X, y = undersampler.fit_resample(X, y)\n",
    "\n",
    "    # Splitting the data into training and validation sets\n",
    "    X_train, X_val, y_train, y_val = train_test_split(X, y, test_size=0.3, random_state=42)\n",
    "\n",
    "\n",
    "\n",
    "    X_train = X_train.drop(missing_columns, axis=1)\n",
    "    X_val = X_val.drop(missing_columns, axis=1)\n",
    "\n",
    "    model = RandomForestClassifier(n_estimators=1000)\n",
    "    model.fit(X_train, y_train)\n",
    "\n",
    "    y_pred = model.predict(X_val)\n",
    "    train_y_pred = model.predict(X_train)\n",
    "\n",
    "    print('Train Accuracy:', accuracy_score(y_train, train_y_pred))\n",
    "    print('Train ROC AUC score:', roc_auc_score(y_train, train_y_pred))\n",
    "\n",
    "    print('Accuracy:', accuracy_score(y_val, y_pred))\n",
    "    print('ROC AUC score:', roc_auc_score(y_val, y_pred))\n",
    "    print('Confusion Matrix:\\n')\n",
    "    cm = confusion_matrix(y_val, y_pred)\n",
    "    disp = ConfusionMatrixDisplay(confusion_matrix=cm,\n",
    "                               display_labels=model.classes_)\n",
    "    print('Training   confusion matrix:\\n', confusion_matrix(y_val, y_pred))\n",
    "    disp.plot()\n",
    "    plt.show()\n",
    "\n",
    "    print('Classification Report:\\n', classification_report(y_val, y_pred))\n",
    "\n",
    "    categorical_columns_test = app_test_cleaned.select_dtypes(include=['object']).columns\n",
    "\n",
    "    app_test_cleaned_encoded = pd.get_dummies(app_test_cleaned, columns=categorical_columns_test)\n",
    "\n",
    "    results_rf = pd.DataFrame({'SK_ID_CURR': app_test_cleaned_encoded.index, 'TARGET': model.predict(app_test_cleaned_encoded)})\n",
    "\n",
    "    return model, results_rf"
   ]
  },
  {
   "cell_type": "code",
   "execution_count": 70,
   "id": "AMw27nmi1IAs",
   "metadata": {
    "id": "AMw27nmi1IAs"
   },
   "outputs": [
    {
     "name": "stdout",
     "output_type": "stream",
     "text": [
      "Train Accuracy: 1.0\n",
      "Train ROC AUC score: 1.0\n",
      "Accuracy: 0.6860793002244346\n",
      "ROC AUC score: 0.6660757043543829\n",
      "Confusion Matrix:\n",
      "\n",
      "Training   confusion matrix:\n",
      " [[7990 1992]\n",
      " [3463 3932]]\n"
     ]
    },
    {
     "data": {
      "image/png": "[encoded data removed]",
      "text/plain": [
       "<Figure size 640x480 with 2 Axes>"
      ]
     },
     "metadata": {},
     "output_type": "display_data"
    },
    {
     "name": "stdout",
     "output_type": "stream",
     "text": [
      "Classification Report:\n",
      "               precision    recall  f1-score   support\n",
      "\n",
      "           0       0.70      0.80      0.75      9982\n",
      "           1       0.66      0.53      0.59      7395\n",
      "\n",
      "    accuracy                           0.69     17377\n",
      "   macro avg       0.68      0.67      0.67     17377\n",
      "weighted avg       0.68      0.69      0.68     17377\n",
      "\n",
      "Random Forest Runtime:  134.75971937179565 seconds\n"
     ]
    }
   ],
   "source": [
    "rf_start = time.time()\n",
    "model_rf, results_rf = random_forest_model(app_train_cleaned)\n",
    "rf_end = time.time()\n",
    "print('Random Forest Runtime: ', rf_end - rf_start, 'seconds')"
   ]
  },
  {
   "cell_type": "code",
   "execution_count": 71,
   "id": "be4702d3",
   "metadata": {
    "id": "be4702d3"
   },
   "outputs": [],
   "source": [
    "results_rf.to_csv(\"RandomForestSubmission.csv\", index=False)"
   ]
  },
  {
   "cell_type": "markdown",
   "id": "f7f255e2",
   "metadata": {
    "id": "f7f255e2"
   },
   "source": [
    "### Kaggle Score for Random Forest (0.66232)\n",
    "![Random Forest](rf.jpeg)"
   ]
  },
  {
   "cell_type": "markdown",
   "id": "8c32ea67",
   "metadata": {
    "id": "8c32ea67",
    "outputId": "168f0cc1-6756-466d-cf0f-4d7734f89b19"
   },
   "source": [
    "# <a name = \"initexp37\">11. Gradient Boosting"
   ]
  },
  {
   "cell_type": "markdown",
   "id": "a021be6a",
   "metadata": {
    "id": "a021be6a"
   },
   "source": [
    "We used Gradient Boosting due to its ability to handle complex relationships and nonlinearities in data. It combines weak predictive models to create a strong ensemble model, which helps identify default risk factors and predict credit default probabilities accurately, enabling better risk management and decision-making.\n",
    "\n",
    "\n",
    "We under sampled the train data since it was heavily imbalanced and received a train accuracy of 100% and test accuracy 68%. The run time of this model was 340.75 seconds. We saw this improvement in accuracy by hypertuning the parameters as follows n_estimators=1000, learning_rate=0.01, max_depth=5, min_samples_split=5 and min_samples_leaf=2"
   ]
  },
  {
   "cell_type": "code",
   "execution_count": 72,
   "id": "0iuNr_Q9MLqP",
   "metadata": {
    "id": "0iuNr_Q9MLqP"
   },
   "outputs": [],
   "source": [
    "def gb_model(df):\n",
    "    categorical_columns = app_train_cleaned.select_dtypes(include=['object']).columns\n",
    "\n",
    "    app_train_cleaned_encoded = pd.get_dummies(app_train_cleaned, columns=categorical_columns)\n",
    "\n",
    "    app_train_cleaned_encoded_copy = app_train_cleaned_encoded.copy()\n",
    "    missing_columns = ['NAME_INCOME_TYPE_Maternity leave', 'NAME_FAMILY_STATUS_Unknown']\n",
    "\n",
    "    # Separating features and target variable\n",
    "    X = app_train_cleaned_encoded_copy.drop('TARGET', axis=1)\n",
    "    y = app_train_cleaned_encoded_copy['TARGET']\n",
    "    undersampler = RandomUnderSampler(sampling_strategy=0.75)\n",
    "    X, y = undersampler.fit_resample(X, y)\n",
    "\n",
    "    # Splitting the data into training and validation sets\n",
    "    X_train, X_val, y_train, y_val = train_test_split(X, y, test_size=0.3, random_state=42)\n",
    "\n",
    "    X_train = X_train.drop(missing_columns, axis=1)\n",
    "    X_val = X_val.drop(missing_columns, axis=1)\n",
    "    model = GradientBoostingClassifier(n_estimators=1000, learning_rate=0.01, max_depth=5, min_samples_split=5,min_samples_leaf=2)\n",
    "\n",
    "    model.fit(X_train, y_train)\n",
    "\n",
    "    # Make predictions\n",
    "    y_pred = model.predict(X_val)\n",
    "\n",
    "    # Print metrics\n",
    "    print('Accuracy:', accuracy_score(y_val, y_pred))\n",
    "    print('ROC AUC score:', roc_auc_score(y_val, y_pred))\n",
    "    print('Confusion Matrix:\\n')\n",
    "    cm = confusion_matrix(y_val, y_pred)\n",
    "    disp = ConfusionMatrixDisplay(confusion_matrix=cm,\n",
    "                               display_labels=model.classes_)\n",
    "    disp.plot()\n",
    "    plt.show()\n",
    "\n",
    "    print('Classification Report:\\n', classification_report(y_val, y_pred))\n",
    "\n",
    "    categorical_columns_test = app_test_cleaned.select_dtypes(include=['object']).columns\n",
    "\n",
    "    app_test_cleaned_encoded = pd.get_dummies(app_test_cleaned, columns=categorical_columns_test)\n",
    "\n",
    "    results_gb = pd.DataFrame({'SK_ID_CURR': app_test_cleaned_encoded.index, 'TARGET': model.predict(app_test_cleaned_encoded)})\n",
    "\n",
    "    return model, results_gb"
   ]
  },
  {
   "cell_type": "code",
   "execution_count": 73,
   "id": "1112505a",
   "metadata": {
    "id": "1112505a"
   },
   "outputs": [
    {
     "name": "stdout",
     "output_type": "stream",
     "text": [
      "Accuracy: 0.6949991367900098\n",
      "ROC AUC score: 0.6793419297399281\n",
      "Confusion Matrix:\n",
      "\n"
     ]
    },
    {
     "data": {
      "image/png": "[encoded data removed]",
      "text/plain": [
       "<Figure size 640x480 with 2 Axes>"
      ]
     },
     "metadata": {},
     "output_type": "display_data"
    },
    {
     "name": "stdout",
     "output_type": "stream",
     "text": [
      "Classification Report:\n",
      "               precision    recall  f1-score   support\n",
      "\n",
      "           0       0.71      0.78      0.75      9982\n",
      "           1       0.66      0.57      0.62      7395\n",
      "\n",
      "    accuracy                           0.69     17377\n",
      "   macro avg       0.69      0.68      0.68     17377\n",
      "weighted avg       0.69      0.69      0.69     17377\n",
      "\n",
      "Gradient Boosting Runtime:  345.68461751937866 seconds\n"
     ]
    }
   ],
   "source": [
    "gb_start = time.time()\n",
    "model1, results_gb = gb_model(app_train_cleaned)\n",
    "gb_end = time.time()\n",
    "print('Gradient Boosting Runtime: ', gb_end - gb_start, 'seconds')"
   ]
  },
  {
   "cell_type": "code",
   "execution_count": 74,
   "id": "a02071bd",
   "metadata": {
    "id": "a02071bd"
   },
   "outputs": [],
   "source": [
    "results_gb.to_csv(\"GBSubmission.csv\", index=False)"
   ]
  },
  {
   "cell_type": "markdown",
   "id": "a25c6a60",
   "metadata": {
    "id": "a25c6a60"
   },
   "source": [
    "### Kaggle Score for Gradient Boosting (0.66071)\n",
    "![Gradient Boosting](gb.jpeg)"
   ]
  },
  {
   "cell_type": "markdown",
   "id": "b4fa9fe3",
   "metadata": {
    "id": "b4fa9fe3"
   },
   "source": [
    "# <a name = \"initexp38\">12. Ensemble Modeling using Voting Classifier"
   ]
  },
  {
   "cell_type": "markdown",
   "id": "d2d1bd39",
   "metadata": {
    "id": "d2d1bd39"
   },
   "source": [
    "Ensemble modeling was a strong candidate because it combines multiple models to make predictions, improving accuracy and robustness. In this case we used an ensemble of Random Forest, Gradient Boosting and Logistic Regression models. It helps mitigate individual model biases and leverages diverse perspectives, resulting in more reliable risk assessments. In theory, ensemble modeling provides a more comprehensive understanding of credit default risk, leading to better decision-making and reduced financial losses.\n",
    "\n",
    "\n",
    "We under sampled the train data since it was heavily imbalanced and received a train accuracy of 100% and test accuracy 69%. The run time of this model was 322.42 seconds"
   ]
  },
  {
   "cell_type": "code",
   "execution_count": 75,
   "id": "b1cc83fd",
   "metadata": {
    "id": "b1cc83fd"
   },
   "outputs": [],
   "source": [
    "from sklearn.ensemble import VotingClassifier\n",
    "def ensemble_model(app_train_cleaned):\n",
    "    categorical_columns = app_train_cleaned.select_dtypes(include=['object']).columns\n",
    "\n",
    "    app_train_cleaned_encoded = pd.get_dummies(app_train_cleaned, columns=categorical_columns)\n",
    "\n",
    "    app_train_cleaned_encoded_copy = app_train_cleaned_encoded.copy()\n",
    "    missing_columns = ['NAME_INCOME_TYPE_Maternity leave', 'NAME_FAMILY_STATUS_Unknown']\n",
    "\n",
    "    # Separating features and target variable\n",
    "    X = app_train_cleaned_encoded_copy.drop('TARGET', axis=1)\n",
    "    y = app_train_cleaned_encoded_copy['TARGET']\n",
    "    undersampler = RandomUnderSampler(sampling_strategy=0.75)\n",
    "    X, y = undersampler.fit_resample(X, y)\n",
    "\n",
    "    # Splitting the data into training and validation sets\n",
    "    X_train, X_val, y_train, y_val = train_test_split(X, y, test_size=0.3, random_state=42)\n",
    "\n",
    "\n",
    "\n",
    "    X_train = X_train.drop(missing_columns, axis=1)\n",
    "    X_val = X_val.drop(missing_columns, axis=1)\n",
    "\n",
    "    # Instantiate and fit the model\n",
    "    model1 = RandomForestClassifier(n_estimators=1000)\n",
    "    model2 = GradientBoostingClassifier(n_estimators=1000) # Increase max_iter if convergence warning appears\n",
    "    model3 = LogisticRegression(max_iter=1000)\n",
    "    model = VotingClassifier([('rf', model1), ('gb', model2),('lg', model3)])\n",
    "    model.fit(X_train, y_train)\n",
    "\n",
    "    # Make predictions\n",
    "    y_pred = model.predict(X_val)\n",
    "\n",
    "    # Print metrics\n",
    "    print('Accuracy:', accuracy_score(y_val, y_pred))\n",
    "    print('ROC AUC score:', roc_auc_score(y_val, y_pred))\n",
    "    print('Confusion Matrix:\\n')\n",
    "    cm = confusion_matrix(y_val, y_pred)\n",
    "    disp = ConfusionMatrixDisplay(confusion_matrix=cm,\n",
    "                               display_labels=model.classes_)\n",
    "    disp.plot()\n",
    "    plt.show()\n",
    "\n",
    "    print('Classification Report:\\n', classification_report(y_val, y_pred))\n",
    "\n",
    "    categorical_columns_test = app_test_cleaned.select_dtypes(include=['object']).columns\n",
    "\n",
    "    app_test_cleaned_encoded = pd.get_dummies(app_test_cleaned, columns=categorical_columns_test)\n",
    "\n",
    "    results_ensemble = pd.DataFrame({'SK_ID_CURR': app_test_cleaned_encoded.index, 'TARGET': model.predict(app_test_cleaned_encoded)})\n",
    "    return model, results_ensemble"
   ]
  },
  {
   "cell_type": "code",
   "execution_count": 76,
   "id": "7ec93690",
   "metadata": {
    "id": "7ec93690"
   },
   "outputs": [
    {
     "name": "stdout",
     "output_type": "stream",
     "text": [
      "Accuracy: 0.690683086838925\n",
      "ROC AUC score: 0.6694170399213514\n",
      "Confusion Matrix:\n",
      "\n"
     ]
    },
    {
     "data": {
      "image/png": "[encoded data removed]",
      "text/plain": [
       "<Figure size 640x480 with 2 Axes>"
      ]
     },
     "metadata": {},
     "output_type": "display_data"
    },
    {
     "name": "stdout",
     "output_type": "stream",
     "text": [
      "Classification Report:\n",
      "               precision    recall  f1-score   support\n",
      "\n",
      "           0       0.70      0.81      0.75      9982\n",
      "           1       0.68      0.53      0.59      7395\n",
      "\n",
      "    accuracy                           0.69     17377\n",
      "   macro avg       0.69      0.67      0.67     17377\n",
      "weighted avg       0.69      0.69      0.68     17377\n",
      "\n",
      "Ensemble Modeling Runtime:  318.80814933776855 seconds\n"
     ]
    }
   ],
   "source": [
    "ensemble_start = time.time()\n",
    "model1, results_ensemble = ensemble_model(app_train_cleaned)\n",
    "ensemble_end = time.time()\n",
    "print('Ensemble Modeling Runtime: ', ensemble_end - ensemble_start, 'seconds')"
   ]
  },
  {
   "cell_type": "code",
   "execution_count": 77,
   "id": "1a0c9872",
   "metadata": {
    "id": "1a0c9872"
   },
   "outputs": [],
   "source": [
    "results_ensemble.to_csv(\"EnsembleSubmission.csv\", index=False)"
   ]
  },
  {
   "cell_type": "markdown",
   "id": "e15da72f",
   "metadata": {
    "id": "e15da72f"
   },
   "source": [
    "### Kaggle Score for Ensemble Modeling (0.65493)\n",
    "![Ensemble Modeling](ensemble.jpeg)"
   ]
  },
  {
   "cell_type": "markdown",
   "id": "b0f32317",
   "metadata": {
    "id": "b0f32317"
   },
   "source": [
    "# <a name = \"initexp39\">13. Modeling Process"
   ]
  },
  {
   "cell_type": "markdown",
   "id": "bb786a82",
   "metadata": {
    "id": "bb786a82"
   },
   "source": [
    "Our plan for modeling was to split up and each of us do different types of models so that we could try as many models as possible. The first step was to implement the models against the cleaned version of the application_train data frame, which was split into a training and validation set. We then tried some of the models using the cleaned and joined application_train and bureau data frame. Since the application_train data frame had 92% of its records with the target variable equaling 0, those models weren’t good enough and needed to be balanced. To handle this, we oversampled the data frame and then resampled it by downsampling the data frame. Doing this balanced our data frame and allowed the models to predict the target variable equaling 1 more accurately. Our last step in the modeling process was creating an ensemble model using Random Forest, Gradient Boosting, and Logistic Regression models. In the end, the different models we implemented were Light Gradient Boosting, KNN, Random Forest, Gradient Boosting, the Ensemble model, Naïve Bayes, and Logistic Regression. The model rankings below present which one performed the best on the application_test data frame."
   ]
  },
  {
   "cell_type": "markdown",
   "id": "9655203f",
   "metadata": {
    "id": "9655203f"
   },
   "source": [
    "# <a name = \"initexp40\">14. Results\n",
    "\n",
    "After considering and implementing several models we found that the best performing models were Random Forest (Kaggle Score: 0.66232), Gradient Boosting (Kaggle Score: 0.66071), Light Gradient Boosting (Kaggle Score: 0.6677) , and Ensemble Modeling (Kaggle Score: 0.65493) by applying the Voting Classifier on Random Forest, Gradient Boosting and Logistic Regression.\n",
    "\n",
    "We also used Logstic Regression and Naive Bayes, however, they gave a lower kaggle score of 0.57819 and 0.57276 respectively. However they treated as a good baseline models.\n",
    "\n",
    "__Best Model:__\n",
    "Light Gradient Boosting and Random Forest turned out to be our best performing model followed by Gradient Boosting.  "
   ]
  },
  {
   "cell_type": "markdown",
   "id": "-MChENg2D-H1",
   "metadata": {
    "id": "-MChENg2D-H1"
   },
   "source": [
    "## <a name = \"initexp41\">15. Model Rankings"
   ]
  },
  {
   "cell_type": "markdown",
   "id": "9f7f1470",
   "metadata": {
    "id": "9f7f1470"
   },
   "source": [
    "\n",
    "\n",
    "1. Light Gradient Boosting (Kaggle Score: 0.671) \n",
    "\n",
    "2. Random Forest (Kaggle Score: 0.66232)\n",
    "\n",
    "3. Gradient Boosting (Kaggle Score: 0.66071)\n",
    "\n",
    "4. Ensemble Modeling (Kaggle Score: 0.65493)\n",
    "\n",
    "5. Naive Bayes (Kaggle Score: 0.57)\n",
    "\n",
    "6. Logistic Regression (Kaggle Score: 0.57)\n",
    "\n",
    "7. KNN (Kaggle Score: 0.55)\n",
    "\n"
   ]
  },
  {
   "cell_type": "markdown",
   "id": "SQGC8-I8EIn9",
   "metadata": {
    "id": "SQGC8-I8EIn9"
   },
   "source": [
    "## <a name = \"initexp42\">16. Contributions"
   ]
  },
  {
   "cell_type": "markdown",
   "id": "dad5a1d6",
   "metadata": {
    "id": "dad5a1d6"
   },
   "source": [
    "\n",
    "\n",
    "__1. Sanskriti Bhargava:__ Applied robust category encoding and sampling techniques to refine the quality and representation of the dataset. This involved transformation of categorical variables and under/oversampling to counteract any class imbalance. Applied various machine learning algorithms, including Logistic Regression, Random Forest, Gradient Boosting and Ensemble modeling using Voting Classifier. Leveraged Random Forest model which yielded the most promising results with a Kaggle score of 0.66. This score was achieved after systematic optimization of hyperparameters. Explored the power of Ensembling to leverage the strengths of all the models. The ensemble model combined predictions from the Logistic Regression, Random Forest, and Gradient Boosting models to generate potentially more accurate predictions. Revisited the cleaned data from the previous assignment to conduct additional modelling attempts.  Analyzed and evaluated the results from each model, comparing their accuracy, precision, recall, and F1 scores to discern the most effective algorithm for this dataset.\n",
    "\n"
   ]
  },
  {
   "cell_type": "markdown",
   "id": "9KyUzchrGT_7",
   "metadata": {
    "id": "9KyUzchrGT_7"
   },
   "source": [
    "**2. Joe Sarnello:** I contributed with working on sections 1-7 (Cleaning the data frames, and implementing the KNN, Light Gradient Boosting, and Gradient Boosting models) and the modeling process section."
   ]
  },
  {
   "cell_type": "markdown",
   "id": "L2yUFmn4HFnC",
   "metadata": {
    "id": "L2yUFmn4HFnC"
   },
   "source": [
    "**3. Daryle Bilog** I\n",
    "Contributed to the development of the Introduction and implemented a Naïve Bayes model.\n"
   ]
  },
  {
   "cell_type": "markdown",
   "id": "M8X32--hHNcS",
   "metadata": {
    "id": "M8X32--hHNcS"
   },
   "source": [
    "**4. Vinay Kumar Vascuri:** During the modeling phase of the Home Credit Kaggle project, I made significant contributions by developing and implementing various models to predict loan repayment probabilities. Firstly, I worked on  logistic regression model and contributed in combining all the models derived by the team members. Throughout the modeling phase, I conducted thorough evaluations using metrics such as accuracy, ROC AUC score to assess model performance. These evaluations helped in selecting the most suitable models for deployment. Overall, my contributions in developing and evaluating multiple models greatly enriched the project's modeling phase, enabling the team to make informed decisions and achieve promising results in predicting loan repayment probabilities."
   ]
  },
  {
   "cell_type": "code",
   "execution_count": null,
   "id": "7f18a17b",
   "metadata": {},
   "outputs": [],
   "source": []
  }
 ],
 "metadata": {
  "colab": {
   "provenance": [],
   "toc_visible": true
  },
  "kernelspec": {
   "display_name": "Python (GPU)",
   "language": "python",
   "name": "python-gpu"
  },
  "language_info": {
   "codemirror_mode": {
    "name": "ipython",
    "version": 3
   },
   "file_extension": ".py",
   "mimetype": "text/x-python",
   "name": "python",
   "nbconvert_exporter": "python",
   "pygments_lexer": "ipython3",
   "version": "3.9.16"
  }
 },
 "nbformat": 4,
 "nbformat_minor": 5
}
